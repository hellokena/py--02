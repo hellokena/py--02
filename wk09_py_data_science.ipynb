{
  "nbformat": 4,
  "nbformat_minor": 0,
  "metadata": {
    "colab": {
      "name": "wk09_py_data_science.ipynb",
      "version": "0.3.2",
      "provenance": [],
      "collapsed_sections": [],
      "include_colab_link": true
    },
    "kernelspec": {
      "display_name": "Python 3",
      "language": "python",
      "name": "python3"
    }
  },
  "cells": [
    {
      "cell_type": "markdown",
      "metadata": {
        "id": "view-in-github",
        "colab_type": "text"
      },
      "source": [
        "<a href=\"https://colab.research.google.com/github/hellokena/py-02/blob/master/wk09_py_data_science.ipynb\" target=\"_parent\"><img src=\"https://colab.research.google.com/assets/colab-badge.svg\" alt=\"Open In Colab\"/></a>"
      ]
    },
    {
      "metadata": {
        "id": "kzxSFWHMAeHu",
        "colab_type": "text"
      },
      "cell_type": "markdown",
      "source": [
        "# Chapter 12-01\n",
        "## numpy, pandas, matplotlib"
      ]
    },
    {
      "metadata": {
        "id": "t3HZ0UA7FoyG",
        "colab_type": "text"
      },
      "cell_type": "markdown",
      "source": [
        "\n",
        "\n",
        "*   numpy : 파이썬의 수학적인 구조를 담당하는 모듈\n",
        "*   pandas : 데이터를 다루는 클래스와 모듈들이 모여있음, Dataframe이라는 구조 지원,  R과 유사\n",
        "*  matplotlib : Graphic Module\n",
        "\n",
        "\n",
        "\n",
        "    +) Tensorflow도 최근에 추가되었음"
      ]
    },
    {
      "metadata": {
        "id": "6qXC1SiiAeHx",
        "colab_type": "text"
      },
      "cell_type": "markdown",
      "source": [
        "### NumPy를 사용한다"
      ]
    },
    {
      "metadata": {
        "id": "v0UWHeLSGLP2",
        "colab_type": "code",
        "colab": {
          "resources": {
            "http://localhost:8080/nbextensions/google.colab/files.js": {
              "data": "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",
              "ok": true,
              "headers": [
                [
                  "content-type",
                  "application/javascript"
                ]
              ],
              "status": 200,
              "status_text": ""
            }
          },
          "base_uri": "https://localhost:8080/",
          "height": 94
        },
        "outputId": "7c47eb54-4e02-433f-a9a8-0448410850aa"
      },
      "cell_type": "code",
      "source": [
        "from google.colab import files\n",
        "\n",
        "uploaded = files.upload()\n",
        "\n",
        "for fn in uploaded.keys():\n",
        "  print('User uploaded file \"{name}\" with length {length} bytes'.format(\n",
        "      name=fn, length=len(uploaded[fn])))"
      ],
      "execution_count": 3,
      "outputs": [
        {
          "output_type": "display_data",
          "data": {
            "text/html": [
              "\n",
              "     <input type=\"file\" id=\"files-b4c3714a-9132-41b1-92c9-9906fc5422ca\" name=\"files[]\" multiple disabled />\n",
              "     <output id=\"result-b4c3714a-9132-41b1-92c9-9906fc5422ca\">\n",
              "      Upload widget is only available when the cell has been executed in the\n",
              "      current browser session. Please rerun this cell to enable.\n",
              "      </output>\n",
              "      <script src=\"/nbextensions/google.colab/files.js\"></script> "
            ],
            "text/plain": [
              "<IPython.core.display.HTML object>"
            ]
          },
          "metadata": {
            "tags": []
          }
        },
        {
          "output_type": "stream",
          "text": [
            "Saving reactions.txt to reactions.txt\n",
            "User uploaded file \"reactions.txt\" with length 25000 bytes\n"
          ],
          "name": "stdout"
        }
      ]
    },
    {
      "metadata": {
        "id": "MsVglMGkGWeN",
        "colab_type": "code",
        "colab": {
          "base_uri": "https://localhost:8080/",
          "height": 53
        },
        "outputId": "743eb0e6-48c3-4054-dda7-3dc0d3216853"
      },
      "cell_type": "code",
      "source": [
        "ls # UNIX 명령어로, list를 의미함 # 현재 내가 있는 작업공간에 무엇이 존재하는지 확인"
      ],
      "execution_count": 6,
      "outputs": [
        {
          "output_type": "stream",
          "text": [
            " bookmark.py    reactions.txt  'testmodule (1).py'\n",
            " \u001b[0m\u001b[01;34m__pycache__\u001b[0m/   \u001b[01;34msample_data\u001b[0m/    testmodule.py\n"
          ],
          "name": "stdout"
        }
      ]
    },
    {
      "metadata": {
        "id": "ahIjjMI4AeHz",
        "colab_type": "code",
        "colab": {}
      },
      "cell_type": "code",
      "source": [
        "# 파일로부터 데이터를 읽어 들임\n",
        "# 반응 테스트의 실험 데이터를 읽어 들임\n",
        "import numpy as np       # numpy을 임포트 # numpy는 기니까 np로 더 짧게 축약\n",
        "# 파일에서 데이터를 읽어 들임 (colab에서 읽어보시오.)\n",
        "reactions_in_ms = np.loadtxt('reactions.txt') # 텍스트 파일을 읽어오는 함수 # 자동으로 numpy의 vector 구조로 저장"
      ],
      "execution_count": 0,
      "outputs": []
    },
    {
      "metadata": {
        "id": "fxlAnpIRAeH3",
        "colab_type": "code",
        "outputId": "416d0c66-0de2-4a25-9722-1102796d5691",
        "colab": {
          "base_uri": "https://localhost:8080/",
          "height": 71
        }
      },
      "cell_type": "code",
      "source": [
        "# NumPy의 array를 사용한다.\n",
        "# 데이터 요약 보기\n",
        "print(reactions_in_ms.size)       # 요소 수를 표시\n",
        "print(reactions_in_ms[:20])       # 앞에서부터 20개 요소를 표시 # 1000줄이 포함되어 있음 # 인덱싱을 사용해 # 처음부터 20개의 데이터를 보여줌"
      ],
      "execution_count": 12,
      "outputs": [
        {
          "output_type": "stream",
          "text": [
            "1000\n",
            "[664. 481. 511. 612. 526. 498. 441. 447. 685. 477. 525. 686. 685. 485.\n",
            " 525. 704. 631. 464. 576. 514.]\n"
          ],
          "name": "stdout"
        }
      ]
    },
    {
      "metadata": {
        "id": "GQzeTH5tAeH8",
        "colab_type": "code",
        "outputId": "8c88ce3b-3db5-467e-a2b5-3d825c19342b",
        "colab": {
          "base_uri": "https://localhost:8080/",
          "height": 53
        }
      },
      "cell_type": "code",
      "source": [
        "# array( ) 나눗셈\n",
        "# 밀리초(ms)를 초(s)로 고침\n",
        "reactions_in_sec = reactions_in_ms/1000\n",
        "print(reactions_in_sec[:20])            # 앞에서부터 20개 요소를 표시"
      ],
      "execution_count": 13,
      "outputs": [
        {
          "output_type": "stream",
          "text": [
            "[0.664 0.481 0.511 0.612 0.526 0.498 0.441 0.447 0.685 0.477 0.525 0.686\n",
            " 0.685 0.485 0.525 0.704 0.631 0.464 0.576 0.514]\n"
          ],
          "name": "stdout"
        }
      ]
    },
    {
      "metadata": {
        "id": "EWdyb4z2AeH_",
        "colab_type": "code",
        "outputId": "82b40c93-7121-4627-8ea8-eb8a3fdbab9e",
        "colab": {
          "base_uri": "https://localhost:8080/",
          "height": 107
        }
      },
      "cell_type": "code",
      "source": [
        "# ms\n",
        "\n",
        "# NumPy의 여러 가지 함수\n",
        "# 기본 통계를 표시하고 데이터의 요약을 검토\n",
        "print(\"평균값 :\", np.mean(reactions_in_sec)) \n",
        "print(\"중앙값 :\", np.median(reactions_in_sec)) # 크기대로 쭉 정렬시켰을 때 중앙에 있는 값들의 평균 # 1000개라면 50.51번 째 값의 평균\n",
        "print(\"표준편차 :\", np.std(reactions_in_sec))\n",
        "print(\"최솟값 :\", np.min(reactions_in_sec))\n",
        "print(\"최대값 :\", np.max(reactions_in_sec))"
      ],
      "execution_count": 16,
      "outputs": [
        {
          "output_type": "stream",
          "text": [
            "평균값 : 0.492834\n",
            "중앙값 : 0.478\n",
            "표준편차 : 0.10190053210852237\n",
            "최솟값 : 0.251\n",
            "최대값 : 0.843\n"
          ],
          "name": "stdout"
        }
      ]
    },
    {
      "metadata": {
        "id": "3uw8tQBSAeIC",
        "colab_type": "text"
      },
      "cell_type": "markdown",
      "source": [
        "## pandas\n",
        "\n",
        "- 파이썬에서 데이터를 처리하는 모듈 (R과 유사함)"
      ]
    },
    {
      "metadata": {
        "id": "Mw8SaFFSJLHo",
        "colab_type": "code",
        "colab": {
          "base_uri": "https://localhost:8080/",
          "height": 204
        },
        "outputId": "08e64dbf-ae8f-48ea-c83e-ae609259d733"
      },
      "cell_type": "code",
      "source": [
        "# 복잡한 데이터를 체계적으로 담아서 관리하고 처리하는 구조 : DataFrame\n",
        "# pandas의 DataFrame형을 사용한다 \n",
        "import pandas as pd # 주로 pd로 축약\n",
        "reactions_df = pd.DataFrame(reactions_in_sec) # , columns=['react_sec']) # DataFrame 이라는 클래스를 사용 \n",
        "reactions_df.head()       # 데이터의 개요를 표시 # 현재 데이터 중에서 5개나 6개만 추출,  tail을 사용하면 현재 데이터 중에서 뒷부분의 5개나 6개만 추출"
      ],
      "execution_count": 30,
      "outputs": [
        {
          "output_type": "execute_result",
          "data": {
            "text/html": [
              "<div>\n",
              "<style scoped>\n",
              "    .dataframe tbody tr th:only-of-type {\n",
              "        vertical-align: middle;\n",
              "    }\n",
              "\n",
              "    .dataframe tbody tr th {\n",
              "        vertical-align: top;\n",
              "    }\n",
              "\n",
              "    .dataframe thead th {\n",
              "        text-align: right;\n",
              "    }\n",
              "</style>\n",
              "<table border=\"1\" class=\"dataframe\">\n",
              "  <thead>\n",
              "    <tr style=\"text-align: right;\">\n",
              "      <th></th>\n",
              "      <th>0</th>\n",
              "    </tr>\n",
              "  </thead>\n",
              "  <tbody>\n",
              "    <tr>\n",
              "      <th>0</th>\n",
              "      <td>0.664</td>\n",
              "    </tr>\n",
              "    <tr>\n",
              "      <th>1</th>\n",
              "      <td>0.481</td>\n",
              "    </tr>\n",
              "    <tr>\n",
              "      <th>2</th>\n",
              "      <td>0.511</td>\n",
              "    </tr>\n",
              "    <tr>\n",
              "      <th>3</th>\n",
              "      <td>0.612</td>\n",
              "    </tr>\n",
              "    <tr>\n",
              "      <th>4</th>\n",
              "      <td>0.526</td>\n",
              "    </tr>\n",
              "  </tbody>\n",
              "</table>\n",
              "</div>"
            ],
            "text/plain": [
              "       0\n",
              "0  0.664\n",
              "1  0.481\n",
              "2  0.511\n",
              "3  0.612\n",
              "4  0.526"
            ]
          },
          "metadata": {
            "tags": []
          },
          "execution_count": 30
        }
      ]
    },
    {
      "metadata": {
        "id": "G_CbvP0CJRYs",
        "colab_type": "code",
        "colab": {
          "base_uri": "https://localhost:8080/",
          "height": 297
        },
        "outputId": "83d3a3cc-3f5e-4986-baec-742e0d0fb58e"
      },
      "cell_type": "code",
      "source": [
        "reactions_df.describe()"
      ],
      "execution_count": 31,
      "outputs": [
        {
          "output_type": "execute_result",
          "data": {
            "text/html": [
              "<div>\n",
              "<style scoped>\n",
              "    .dataframe tbody tr th:only-of-type {\n",
              "        vertical-align: middle;\n",
              "    }\n",
              "\n",
              "    .dataframe tbody tr th {\n",
              "        vertical-align: top;\n",
              "    }\n",
              "\n",
              "    .dataframe thead th {\n",
              "        text-align: right;\n",
              "    }\n",
              "</style>\n",
              "<table border=\"1\" class=\"dataframe\">\n",
              "  <thead>\n",
              "    <tr style=\"text-align: right;\">\n",
              "      <th></th>\n",
              "      <th>0</th>\n",
              "    </tr>\n",
              "  </thead>\n",
              "  <tbody>\n",
              "    <tr>\n",
              "      <th>count</th>\n",
              "      <td>1000.000000</td>\n",
              "    </tr>\n",
              "    <tr>\n",
              "      <th>mean</th>\n",
              "      <td>0.492834</td>\n",
              "    </tr>\n",
              "    <tr>\n",
              "      <th>std</th>\n",
              "      <td>0.101952</td>\n",
              "    </tr>\n",
              "    <tr>\n",
              "      <th>min</th>\n",
              "      <td>0.251000</td>\n",
              "    </tr>\n",
              "    <tr>\n",
              "      <th>25%</th>\n",
              "      <td>0.417000</td>\n",
              "    </tr>\n",
              "    <tr>\n",
              "      <th>50%</th>\n",
              "      <td>0.478000</td>\n",
              "    </tr>\n",
              "    <tr>\n",
              "      <th>75%</th>\n",
              "      <td>0.559000</td>\n",
              "    </tr>\n",
              "    <tr>\n",
              "      <th>max</th>\n",
              "      <td>0.843000</td>\n",
              "    </tr>\n",
              "  </tbody>\n",
              "</table>\n",
              "</div>"
            ],
            "text/plain": [
              "                 0\n",
              "count  1000.000000\n",
              "mean      0.492834\n",
              "std       0.101952\n",
              "min       0.251000\n",
              "25%       0.417000\n",
              "50%       0.478000\n",
              "75%       0.559000\n",
              "max       0.843000"
            ]
          },
          "metadata": {
            "tags": []
          },
          "execution_count": 31
        }
      ]
    },
    {
      "metadata": {
        "id": "g1FPhWw9JZSn",
        "colab_type": "code",
        "colab": {
          "base_uri": "https://localhost:8080/",
          "height": 35
        },
        "outputId": "7e0cf830-0cb7-4d99-bdf1-1a9e19267492"
      },
      "cell_type": "code",
      "source": [
        "reactions_df.columns # colum은 현재 하나밖에 없어! # 위에서 colums 정의 해줬어 # 안 해주면 숫자로 떠(0)"
      ],
      "execution_count": 32,
      "outputs": [
        {
          "output_type": "execute_result",
          "data": {
            "text/plain": [
              "RangeIndex(start=0, stop=1, step=1)"
            ]
          },
          "metadata": {
            "tags": []
          },
          "execution_count": 32
        }
      ]
    },
    {
      "metadata": {
        "id": "--9YGk-SJTZ0",
        "colab_type": "text"
      },
      "cell_type": "markdown",
      "source": [
        "*   colums 정의 코드\n",
        "\n"
      ]
    },
    {
      "metadata": {
        "id": "10YYe145AeID",
        "colab_type": "code",
        "outputId": "83ca6395-8412-4e1a-83d1-ec0c27792e9a",
        "colab": {
          "base_uri": "https://localhost:8080/",
          "height": 204
        }
      },
      "cell_type": "code",
      "source": [
        "# 복잡한 데이터를 체계적으로 담아서 관리하고 처리하는 구조 : DataFrame\n",
        "# pandas의 DataFrame형을 사용한다 \n",
        "import pandas as pd # 주로 pd로 축약\n",
        "reactions_df = pd.DataFrame(reactions_in_sec, columns=['react_sec']) # DataFrame 이라는 클래스를 사용 # colums 정의\n",
        "reactions_df.head()       # 데이터의 개요를 표시 # 현재 데이터 중에서 5개나 6개만 추출,  tail을 사용하면 현재 데이터 중에서 뒷부분의 5개나 6개만 추출"
      ],
      "execution_count": 25,
      "outputs": [
        {
          "output_type": "execute_result",
          "data": {
            "text/html": [
              "<div>\n",
              "<style scoped>\n",
              "    .dataframe tbody tr th:only-of-type {\n",
              "        vertical-align: middle;\n",
              "    }\n",
              "\n",
              "    .dataframe tbody tr th {\n",
              "        vertical-align: top;\n",
              "    }\n",
              "\n",
              "    .dataframe thead th {\n",
              "        text-align: right;\n",
              "    }\n",
              "</style>\n",
              "<table border=\"1\" class=\"dataframe\">\n",
              "  <thead>\n",
              "    <tr style=\"text-align: right;\">\n",
              "      <th></th>\n",
              "      <th>react_sec</th>\n",
              "    </tr>\n",
              "  </thead>\n",
              "  <tbody>\n",
              "    <tr>\n",
              "      <th>0</th>\n",
              "      <td>0.664</td>\n",
              "    </tr>\n",
              "    <tr>\n",
              "      <th>1</th>\n",
              "      <td>0.481</td>\n",
              "    </tr>\n",
              "    <tr>\n",
              "      <th>2</th>\n",
              "      <td>0.511</td>\n",
              "    </tr>\n",
              "    <tr>\n",
              "      <th>3</th>\n",
              "      <td>0.612</td>\n",
              "    </tr>\n",
              "    <tr>\n",
              "      <th>4</th>\n",
              "      <td>0.526</td>\n",
              "    </tr>\n",
              "  </tbody>\n",
              "</table>\n",
              "</div>"
            ],
            "text/plain": [
              "   react_sec\n",
              "0      0.664\n",
              "1      0.481\n",
              "2      0.511\n",
              "3      0.612\n",
              "4      0.526"
            ]
          },
          "metadata": {
            "tags": []
          },
          "execution_count": 25
        }
      ]
    },
    {
      "metadata": {
        "id": "ElkrFvxPAeIF",
        "colab_type": "code",
        "outputId": "5fbf570c-b628-4d24-92e7-25751ae56c80",
        "colab": {
          "base_uri": "https://localhost:8080/",
          "height": 297
        }
      },
      "cell_type": "code",
      "source": [
        "reactions_df.describe()   # 데이터의 평균, 표준 편차, 최댓값, 최솟값 등을 표시 # 데이터 안에 들어있는 값들의 분포 특성을 나타냄 # 50% = median"
      ],
      "execution_count": 26,
      "outputs": [
        {
          "output_type": "execute_result",
          "data": {
            "text/html": [
              "<div>\n",
              "<style scoped>\n",
              "    .dataframe tbody tr th:only-of-type {\n",
              "        vertical-align: middle;\n",
              "    }\n",
              "\n",
              "    .dataframe tbody tr th {\n",
              "        vertical-align: top;\n",
              "    }\n",
              "\n",
              "    .dataframe thead th {\n",
              "        text-align: right;\n",
              "    }\n",
              "</style>\n",
              "<table border=\"1\" class=\"dataframe\">\n",
              "  <thead>\n",
              "    <tr style=\"text-align: right;\">\n",
              "      <th></th>\n",
              "      <th>react_sec</th>\n",
              "    </tr>\n",
              "  </thead>\n",
              "  <tbody>\n",
              "    <tr>\n",
              "      <th>count</th>\n",
              "      <td>1000.000000</td>\n",
              "    </tr>\n",
              "    <tr>\n",
              "      <th>mean</th>\n",
              "      <td>0.492834</td>\n",
              "    </tr>\n",
              "    <tr>\n",
              "      <th>std</th>\n",
              "      <td>0.101952</td>\n",
              "    </tr>\n",
              "    <tr>\n",
              "      <th>min</th>\n",
              "      <td>0.251000</td>\n",
              "    </tr>\n",
              "    <tr>\n",
              "      <th>25%</th>\n",
              "      <td>0.417000</td>\n",
              "    </tr>\n",
              "    <tr>\n",
              "      <th>50%</th>\n",
              "      <td>0.478000</td>\n",
              "    </tr>\n",
              "    <tr>\n",
              "      <th>75%</th>\n",
              "      <td>0.559000</td>\n",
              "    </tr>\n",
              "    <tr>\n",
              "      <th>max</th>\n",
              "      <td>0.843000</td>\n",
              "    </tr>\n",
              "  </tbody>\n",
              "</table>\n",
              "</div>"
            ],
            "text/plain": [
              "         react_sec\n",
              "count  1000.000000\n",
              "mean      0.492834\n",
              "std       0.101952\n",
              "min       0.251000\n",
              "25%       0.417000\n",
              "50%       0.478000\n",
              "75%       0.559000\n",
              "max       0.843000"
            ]
          },
          "metadata": {
            "tags": []
          },
          "execution_count": 26
        }
      ]
    },
    {
      "metadata": {
        "id": "EcgNj3HTAeII",
        "colab_type": "code",
        "outputId": "d68022e0-8ce5-4fa1-aa53-befdc2cbc704",
        "colab": {
          "base_uri": "https://localhost:8080/",
          "height": 35
        }
      },
      "cell_type": "code",
      "source": [
        "reactions_df.columns # colum은 현재 하나밖에 없어! # 위에서 colums 정의 해줬어 # 안 해주면 숫자로 떠(0)"
      ],
      "execution_count": 29,
      "outputs": [
        {
          "output_type": "execute_result",
          "data": {
            "text/plain": [
              "Index(['react_sec'], dtype='object')"
            ]
          },
          "metadata": {
            "tags": []
          },
          "execution_count": 29
        }
      ]
    },
    {
      "metadata": {
        "id": "VtVfTr5jAeIK",
        "colab_type": "text"
      },
      "cell_type": "markdown",
      "source": [
        "### matplotlib를 사용한다"
      ]
    },
    {
      "metadata": {
        "id": "cwTdDACGAeIL",
        "colab_type": "code",
        "colab": {}
      },
      "cell_type": "code",
      "source": [
        "# matplotlib으로 히스토그램을 그린다\n",
        "%matplotlib inline\n",
        "import matplotlib.pyplot as plt # matplotlib를 임포트 # 주로 plt로 축약\n",
        "h = plt.hist(reactions_in_sec)  # 히스토그램을 그림\n",
        "\n",
        "# Add title and axis names\n",
        "# plt.title('reaction time in sec')\n",
        "# plt.xlabel('sec')\n",
        "# plt.ylabel('frequency')\n",
        "# plt.show()"
      ],
      "execution_count": 0,
      "outputs": []
    },
    {
      "metadata": {
        "id": "39nhYAbsJcza",
        "colab_type": "code",
        "colab": {
          "base_uri": "https://localhost:8080/",
          "height": 294
        },
        "outputId": "9212f332-1677-436a-f04d-d00280eb70d4"
      },
      "cell_type": "code",
      "source": [
        "# matplotlib으로 히스토그램을 그린다\n",
        "%matplotlib inline\n",
        "import matplotlib.pyplot as plt # matplotlib를 임포트 # 주로 plt로 축약\n",
        "h = plt.hist(reactions_in_sec)  # 히스토그램을 그림\n",
        "\n",
        "# Add title and axis names\n",
        "plt.title('reaction time in sec')\n",
        "plt.xlabel('sec')\n",
        "plt.ylabel('frequency')\n",
        "plt.show()"
      ],
      "execution_count": 35,
      "outputs": [
        {
          "output_type": "display_data",
          "data": {
            "image/png": "[encoded data removed]",
            "text/plain": [
              "<matplotlib.figure.Figure at 0x7f5560754d68>"
            ]
          },
          "metadata": {
            "tags": []
          }
        }
      ]
    },
    {
      "metadata": {
        "id": "x-NKB2anAeIQ",
        "colab_type": "text"
      },
      "cell_type": "markdown",
      "source": [
        "***"
      ]
    },
    {
      "metadata": {
        "id": "1abKHxPtAeIR",
        "colab_type": "text"
      },
      "cell_type": "markdown",
      "source": [
        "# Chapter 12-02\n",
        "## NumPy를 사용한다"
      ]
    },
    {
      "metadata": {
        "id": "roxdfZ1rAeIR",
        "colab_type": "text"
      },
      "cell_type": "markdown",
      "source": [
        "### NumPy의 array를 생성한다"
      ]
    },
    {
      "metadata": {
        "id": "VwYKCsSdOZ6U",
        "colab_type": "text"
      },
      "cell_type": "markdown",
      "source": [
        "*   array와 비슷한 것 : list\n",
        "*   list는 수학적으로 엄격하지 않지만, array는 수학적으로 엄격함"
      ]
    },
    {
      "metadata": {
        "id": "7s_giGBvAeIS",
        "colab_type": "code",
        "outputId": "61a280bf-2dc8-4280-f592-0981fb6e03a3",
        "colab": {
          "base_uri": "https://localhost:8080/",
          "height": 35
        }
      },
      "cell_type": "code",
      "source": [
        "# array의 작성\n",
        "import numpy as np         # NumPy를 임포트\n",
        "a = np.array([0, 1, 2, 3]) # array를 만듦\n",
        "a                          # array를 표시"
      ],
      "execution_count": 3,
      "outputs": [
        {
          "output_type": "execute_result",
          "data": {
            "text/plain": [
              "array([0, 1, 2, 3])"
            ]
          },
          "metadata": {
            "tags": []
          },
          "execution_count": 3
        }
      ]
    },
    {
      "metadata": {
        "id": "8NLX69J9AeIV",
        "colab_type": "code",
        "outputId": "d823a3d7-9322-48fc-f726-5023a0e38c1d",
        "colab": {
          "base_uri": "https://localhost:8080/",
          "height": 71
        }
      },
      "cell_type": "code",
      "source": [
        "# 2차원 array의 작성\n",
        "b = np.array([[0, 1, 2], [3, 4, 5], [6, 7, 8]]) # 말은 없지만, 구조를 보고 몇차원인지 확인\n",
        "b"
      ],
      "execution_count": 40,
      "outputs": [
        {
          "output_type": "execute_result",
          "data": {
            "text/plain": [
              "array([[0, 1, 2],\n",
              "       [3, 4, 5],\n",
              "       [6, 7, 8]])"
            ]
          },
          "metadata": {
            "tags": []
          },
          "execution_count": 40
        }
      ]
    },
    {
      "metadata": {
        "id": "mhkrqRy3AeIX",
        "colab_type": "code",
        "outputId": "68890483-834e-4f61-a4e3-4aa80e8076f6",
        "colab": {
          "base_uri": "https://localhost:8080/",
          "height": 89
        }
      },
      "cell_type": "code",
      "source": [
        "# array의 속성(property)\n",
        "print(b.ndim)       # 차원 수 # 1차원 배열은 1, 2차원 배열은 2\n",
        "print(b.shape)      # 각 차원의 요소 수 # 배열의 구조 n by n 구조 # 위의 코드는 3 by 3\n",
        "print(b.size)       # 크기 # 위의 코드는 9\n",
        "print(b.dtype)      # 형 # 데이터 타입 # 위의 코드는 정수(int)"
      ],
      "execution_count": 41,
      "outputs": [
        {
          "output_type": "stream",
          "text": [
            "2\n",
            "(3, 3)\n",
            "9\n",
            "int64\n"
          ],
          "name": "stdout"
        }
      ]
    },
    {
      "metadata": {
        "id": "d57DNvrTQLr-",
        "colab_type": "code",
        "colab": {
          "base_uri": "https://localhost:8080/",
          "height": 230
        },
        "outputId": "ca7ab5cc-0afd-4aad-ac1b-d95febc04186"
      },
      "cell_type": "code",
      "source": [
        "a.ndim, a.shape, a.size # 1차원 배열\n",
        "\n",
        "#(4,) 잘 이해! -> (1,4)와 어떻게 다른지? 4 by 1이라는 뜻 \n",
        "# 기본적으로 numpy는 행 백터를 일반적으로 가로로 바꿔서 나타낸다."
      ],
      "execution_count": 1,
      "outputs": [
        {
          "output_type": "error",
          "ename": "NameError",
          "evalue": "ignored",
          "traceback": [
            "\u001b[0;31m---------------------------------------------------------------------------\u001b[0m",
            "\u001b[0;31mNameError\u001b[0m                                 Traceback (most recent call last)",
            "\u001b[0;32m<ipython-input-1-088251c6052a>\u001b[0m in \u001b[0;36m<module>\u001b[0;34m()\u001b[0m\n\u001b[0;32m----> 1\u001b[0;31m \u001b[0ma\u001b[0m\u001b[0;34m.\u001b[0m\u001b[0mndim\u001b[0m\u001b[0;34m,\u001b[0m \u001b[0ma\u001b[0m\u001b[0;34m.\u001b[0m\u001b[0mshape\u001b[0m\u001b[0;34m,\u001b[0m \u001b[0ma\u001b[0m\u001b[0;34m.\u001b[0m\u001b[0msize\u001b[0m \u001b[0;31m# 1차원 배열\u001b[0m\u001b[0;34m\u001b[0m\u001b[0m\n\u001b[0m\u001b[1;32m      2\u001b[0m \u001b[0;34m\u001b[0m\u001b[0m\n\u001b[1;32m      3\u001b[0m \u001b[0;31m#(4,) 잘 이해! -> (1,4)와 어떻게 다른지? 4 by 1이라는 뜻\u001b[0m\u001b[0;34m\u001b[0m\u001b[0;34m\u001b[0m\u001b[0m\n\u001b[1;32m      4\u001b[0m \u001b[0;31m# 기본적으로 numpy는 행 백터를 일반적으로 가로로 바꿔서 나타낸다.\u001b[0m\u001b[0;34m\u001b[0m\u001b[0;34m\u001b[0m\u001b[0m\n",
            "\u001b[0;31mNameError\u001b[0m: name 'a' is not defined"
          ]
        }
      ]
    },
    {
      "metadata": {
        "id": "TkckRZk-AeIa",
        "colab_type": "code",
        "outputId": "df6cd7e0-dfc9-4618-bed9-3a4d52daab5e",
        "colab": {
          "base_uri": "https://localhost:8080/",
          "height": 71
        }
      },
      "cell_type": "code",
      "source": [
        "# 2차원 배열로 변환한다\n",
        "# reshape()로 array로 변경\n",
        "b2 = np.zeros(9).reshape(3, 3) # reshape : numpy안에 있는 내부 메소드 # 9개의 0을 만들어서 3 by 3으로 재배치 # 잘 보면 ','가 아니라 '.'임\n",
        "b2"
      ],
      "execution_count": 39,
      "outputs": [
        {
          "output_type": "execute_result",
          "data": {
            "text/plain": [
              "array([[0., 0., 0.],\n",
              "       [0., 0., 0.],\n",
              "       [0., 0., 0.]])"
            ]
          },
          "metadata": {
            "tags": []
          },
          "execution_count": 39
        }
      ]
    },
    {
      "metadata": {
        "id": "mLTCAHhTAeId",
        "colab_type": "code",
        "outputId": "0fb4f1ca-4dfd-4178-d75c-b560ea19d36a",
        "colab": {
          "base_uri": "https://localhost:8080/",
          "height": 72
        }
      },
      "cell_type": "code",
      "source": [
        "# 배열의 회전\n",
        "# T(전치 행렬)를 표시\n",
        "# 0,1,2 2,3,4 5,6,7는 3x3의 array\n",
        "a = np.arange(9).reshape(3, 3)  # arange() means 'array' range() \n",
        "\n",
        "# numpy에서는 range가 아니라 arange임 \n",
        "# range는 리스트 구조 반환 \n",
        "# arange는 리스트 구조를 array를 바꾸어서 반환해줌\n",
        "\n",
        "a     # array 보기"
      ],
      "execution_count": 4,
      "outputs": [
        {
          "output_type": "execute_result",
          "data": {
            "text/plain": [
              "array([[0, 1, 2],\n",
              "       [3, 4, 5],\n",
              "       [6, 7, 8]])"
            ]
          },
          "metadata": {
            "tags": []
          },
          "execution_count": 4
        }
      ]
    },
    {
      "metadata": {
        "id": "N-lU6ronAeIh",
        "colab_type": "code",
        "outputId": "68e9cea6-8401-46c5-d91b-a09c9e77b165",
        "colab": {
          "base_uri": "https://localhost:8080/",
          "height": 71
        }
      },
      "cell_type": "code",
      "source": [
        "a==b # a하고 b가 같느냐 # 위치를 반드시 지켜서 비교"
      ],
      "execution_count": 49,
      "outputs": [
        {
          "output_type": "execute_result",
          "data": {
            "text/plain": [
              "array([[ True,  True,  True],\n",
              "       [ True,  True,  True],\n",
              "       [ True,  True,  True]])"
            ]
          },
          "metadata": {
            "tags": []
          },
          "execution_count": 49
        }
      ]
    },
    {
      "metadata": {
        "id": "tf8WRvYQAeIj",
        "colab_type": "code",
        "outputId": "5052e79e-9c7c-4f9a-a015-5e6a6877221a",
        "colab": {
          "base_uri": "https://localhost:8080/",
          "height": 71
        }
      },
      "cell_type": "code",
      "source": [
        "a.T    # 90도 회전한 array 보기 : transpose of a matrix \n",
        "\n",
        "# 전치행렬(T) # (0,2) -> (2,0) \n",
        "# 위치가 안바뀌는 것 : (0,0), (1,1), (2,2)"
      ],
      "execution_count": 54,
      "outputs": [
        {
          "output_type": "execute_result",
          "data": {
            "text/plain": [
              "array([[0, 3, 6],\n",
              "       [1, 4, 7],\n",
              "       [2, 5, 8]])"
            ]
          },
          "metadata": {
            "tags": []
          },
          "execution_count": 54
        }
      ]
    },
    {
      "metadata": {
        "id": "i-FiSZ_7AeIm",
        "colab_type": "code",
        "outputId": "f8df57ba-544d-44e2-a5bf-661c1ae6562d",
        "colab": {
          "base_uri": "https://localhost:8080/",
          "height": 71
        }
      },
      "cell_type": "code",
      "source": [
        "a.T == b\n",
        "# 대각성분(diagonal elements)만 일치\n",
        "# (0,2) -> (2,0) # 위치가 안바뀌는 것 : (0,0), (1,1), (2,2)"
      ],
      "execution_count": 55,
      "outputs": [
        {
          "output_type": "execute_result",
          "data": {
            "text/plain": [
              "array([[ True, False, False],\n",
              "       [False,  True, False],\n",
              "       [False, False,  True]])"
            ]
          },
          "metadata": {
            "tags": []
          },
          "execution_count": 55
        }
      ]
    },
    {
      "metadata": {
        "id": "7ru2Im5YAeIo",
        "colab_type": "text"
      },
      "cell_type": "markdown",
      "source": [
        "### array를 사용한 연산"
      ]
    },
    {
      "metadata": {
        "id": "sS9au_fUAeIp",
        "colab_type": "code",
        "outputId": "ca7b3011-1e2a-487f-c29d-486aac148388",
        "colab": {
          "base_uri": "https://localhost:8080/",
          "height": 35
        }
      },
      "cell_type": "code",
      "source": [
        "# 각 요소에 1을 더함\n",
        "a = np.arange(1, 10)    # 1에서 9까지의 배열을 만듦 \n",
        "                        # 맨 마지막은 빠지니까 1부터 9까지\n",
        "a+1                     # 각 요소에 1을 더하여 표시 \n",
        "                        # 숫자 1은 0차원인데, 1차원 구조랑 연산이 가능함 \n",
        "                        # 한쪽의 차원이 부족하면 1이 9개 들어있는 구조로 팽창(확장)을 시켜서 연산 => Broadcasting(과제할때 나올거얌!)"
      ],
      "execution_count": 57,
      "outputs": [
        {
          "output_type": "execute_result",
          "data": {
            "text/plain": [
              "array([ 2,  3,  4,  5,  6,  7,  8,  9, 10])"
            ]
          },
          "metadata": {
            "tags": []
          },
          "execution_count": 57
        }
      ]
    },
    {
      "metadata": {
        "id": "0LTnN4APAeIq",
        "colab_type": "code",
        "outputId": "c032d3aa-f39a-4d2e-994c-84081be6c6ef",
        "colab": {
          "base_uri": "https://localhost:8080/",
          "height": 35
        }
      },
      "cell_type": "code",
      "source": [
        "# 배열의 덧셈\n",
        "# 2개의 array의 각 요소를 더함\n",
        "a = np.arange(1, 10) \n",
        "b = np.arange(1, 10)    # 1에서 9까지의 배열을 2개 만듦\n",
        "a+b                     # a의 요소와 b의 요소를 더함\n",
        "\n",
        "# 같은 차원의 연산(덧셈)"
      ],
      "execution_count": 59,
      "outputs": [
        {
          "output_type": "execute_result",
          "data": {
            "text/plain": [
              "array([ 2,  4,  6,  8, 10, 12, 14, 16, 18])"
            ]
          },
          "metadata": {
            "tags": []
          },
          "execution_count": 59
        }
      ]
    },
    {
      "metadata": {
        "id": "pZdT9n3fAeIs",
        "colab_type": "code",
        "colab": {}
      },
      "cell_type": "code",
      "source": [
        "# 배열의 곱셈 1\n",
        "# 브로드캐스팅(Broadcasting)\n",
        "a = np.ones(9).reshape(3, 3) # 1로만 구성된 3×3의 array를 만듦 # ones() : 1을 9개 만듦, zeros() : 0을 크기만큼 만듦\n",
        "b = np.arange(1, 4)          # 1, 2, 3의 array를 만듦"
      ],
      "execution_count": 0,
      "outputs": []
    },
    {
      "metadata": {
        "id": "reDtIKF8AeIu",
        "colab_type": "code",
        "outputId": "b9c65e3a-20ac-4147-8fdb-479f8ef5fc2f",
        "colab": {
          "base_uri": "https://localhost:8080/",
          "height": 71
        }
      },
      "cell_type": "code",
      "source": [
        "a,b"
      ],
      "execution_count": 61,
      "outputs": [
        {
          "output_type": "execute_result",
          "data": {
            "text/plain": [
              "(array([[1., 1., 1.],\n",
              "        [1., 1., 1.],\n",
              "        [1., 1., 1.]]), array([1, 2, 3]))"
            ]
          },
          "metadata": {
            "tags": []
          },
          "execution_count": 61
        }
      ]
    },
    {
      "metadata": {
        "id": "WcvMB3-XAeIx",
        "colab_type": "code",
        "outputId": "3b48ab5e-0024-4880-e904-c45e68f598f2",
        "colab": {
          "base_uri": "https://localhost:8080/",
          "height": 71
        }
      },
      "cell_type": "code",
      "source": [
        "# 곱셈한 결과를 표시\n",
        "a*b # 차원끼리 맞춰서 연산이 된다\n",
        "    #  1 2 3\n",
        "    #  1 2 3\n",
        "    #  1 2 3 으로 바뀜 => broadcasting"
      ],
      "execution_count": 64,
      "outputs": [
        {
          "output_type": "execute_result",
          "data": {
            "text/plain": [
              "array([[1., 2., 3.],\n",
              "       [1., 2., 3.],\n",
              "       [1., 2., 3.]])"
            ]
          },
          "metadata": {
            "tags": []
          },
          "execution_count": 64
        }
      ]
    },
    {
      "metadata": {
        "id": "6Pdul27VAeIy",
        "colab_type": "code",
        "outputId": "9e2820cb-9540-4343-ff9b-3eb7a3f38ada",
        "colab": {
          "base_uri": "https://localhost:8080/",
          "height": 71
        }
      },
      "cell_type": "code",
      "source": [
        "a*(b.T),b.T # 1차원 배열의 transpose는 자기 자신이다.\n",
        "\n",
        "# 1차원 배열\n",
        "# 5 -> 인덱스 0\n",
        "# 7 ->        1\n",
        "# 9 ->        2\n",
        "\n",
        "# 2차원 배열부터는 left, right가 바뀜\n",
        "\n",
        "# b "
      ],
      "execution_count": 65,
      "outputs": [
        {
          "output_type": "execute_result",
          "data": {
            "text/plain": [
              "(array([[1., 2., 3.],\n",
              "        [1., 2., 3.],\n",
              "        [1., 2., 3.]]), array([1, 2, 3]))"
            ]
          },
          "metadata": {
            "tags": []
          },
          "execution_count": 65
        }
      ]
    },
    {
      "metadata": {
        "id": "I2-I4ECpAeI1",
        "colab_type": "code",
        "outputId": "c7c258b9-77b4-4c9f-e7f3-aa08a1e233f1",
        "colab": {
          "base_uri": "https://localhost:8080/",
          "height": 71
        }
      },
      "cell_type": "code",
      "source": [
        "# 배열의 곱셈 2\n",
        "# 브로드캐스팅을 사용하여 3x3의 array를 만든다\n",
        "np.zeros((3, 1))*np.zeros((1, 3))\n",
        "\n",
        "# (3,1)     (1,3)\n",
        "# 0\n",
        "# 0         0 0 0  3 by 1 * 1 by 3 = 3차원 배열로 바뀜 => 차원의 확장\n",
        "# 0"
      ],
      "execution_count": 69,
      "outputs": [
        {
          "output_type": "execute_result",
          "data": {
            "text/plain": [
              "array([[0., 0., 0.],\n",
              "       [0., 0., 0.],\n",
              "       [0., 0., 0.]])"
            ]
          },
          "metadata": {
            "tags": []
          },
          "execution_count": 69
        }
      ]
    },
    {
      "metadata": {
        "id": "Nlzh0PGEAeI4",
        "colab_type": "code",
        "outputId": "595ad87f-c8d1-49e4-9915-688f8471f364",
        "colab": {
          "base_uri": "https://localhost:8080/",
          "height": 89
        }
      },
      "cell_type": "code",
      "source": [
        "# 요소의 합계\n",
        "# 함수를 사용한 연산\n",
        "# 0부터 8까지로, 3×3의 array를 만듦\n",
        "a = np.arange(9).reshape(3, 3) # 생각해보니까 가로로 들어가는 것 같애!\n",
        "print(a)\n",
        "np.sum(a)        # 합계를 계산"
      ],
      "execution_count": 70,
      "outputs": [
        {
          "output_type": "stream",
          "text": [
            "[[0 1 2]\n",
            " [3 4 5]\n",
            " [6 7 8]]\n"
          ],
          "name": "stdout"
        },
        {
          "output_type": "execute_result",
          "data": {
            "text/plain": [
              "36"
            ]
          },
          "metadata": {
            "tags": []
          },
          "execution_count": 70
        }
      ]
    },
    {
      "metadata": {
        "id": "dx9LQWafAeI9",
        "colab_type": "code",
        "colab": {}
      },
      "cell_type": "code",
      "source": [
        "# 축끼리의 덧셈을 한다.\n",
        "# 인수 axis를 준 연산\n",
        "# [[0 1 2]\n",
        "#  [3 4 5]\n",
        "#  [6 7 8]]\n",
        "# 위 배열의 각 축의 합계를 계산\n",
        "np.sum(a, axis=0)  # 세로합 # sum : 합을 계산함 # axis = 0 : 모든계산은 행을 기준으로 한다. 행을 바꾸면서 계산(★잘 알아둬야 해)"
      ],
      "execution_count": 0,
      "outputs": []
    },
    {
      "metadata": {
        "id": "gHMTsxjZAeJA",
        "colab_type": "code",
        "outputId": "1e9a088c-1bf3-4e9c-c3c4-650ad14fd59f",
        "colab": {
          "base_uri": "https://localhost:8080/",
          "height": 35
        }
      },
      "cell_type": "code",
      "source": [
        "np.sum(a, axis=1)  # 가로합 # (axis = 1) => 계산을 열 기준으로 한다(★잘 알아둬야 해)"
      ],
      "execution_count": 71,
      "outputs": [
        {
          "output_type": "execute_result",
          "data": {
            "text/plain": [
              "array([ 3, 12, 21])"
            ]
          },
          "metadata": {
            "tags": []
          },
          "execution_count": 71
        }
      ]
    },
    {
      "metadata": {
        "id": "OvWOK30vAeJC",
        "colab_type": "text"
      },
      "cell_type": "markdown",
      "source": [
        "### 요소에의 접근 (중요)"
      ]
    },
    {
      "metadata": {
        "id": "i1NXaX3hAeJD",
        "colab_type": "code",
        "colab": {}
      },
      "cell_type": "code",
      "source": [
        "# 요소에 접근한다\n",
        "a = np.arange(9).reshape(3, 3) # 0부터 8까지로 3×3의 array를 만듦\n",
        "a"
      ],
      "execution_count": 0,
      "outputs": []
    },
    {
      "metadata": {
        "id": "zq4SplI1AeJI",
        "colab_type": "code",
        "outputId": "d0aaa6e8-52be-4e75-96ab-165780d16fd0",
        "colab": {
          "base_uri": "https://localhost:8080/",
          "height": 35
        }
      },
      "cell_type": "code",
      "source": [
        "a[1, 2]                        # 1, 2의 요소를 표시 # 리스트에 접근하려면 []로 접근해야해(인덱싱)"
      ],
      "execution_count": 72,
      "outputs": [
        {
          "output_type": "execute_result",
          "data": {
            "text/plain": [
              "5"
            ]
          },
          "metadata": {
            "tags": []
          },
          "execution_count": 72
        }
      ]
    },
    {
      "metadata": {
        "id": "WRMSHtOhAeJK",
        "colab_type": "code",
        "outputId": "1af9d601-68c1-4de5-c4d1-de766a0f8889",
        "colab": {
          "base_uri": "https://localhost:8080/",
          "height": 53
        }
      },
      "cell_type": "code",
      "source": [
        "# 어떤 데이터에서 특정 부분을 추출하려면 인덱싱이랑 슬라이싱 사용!\n",
        "# 슬라이스 이용\n",
        "# 슬라이스를 사용하여 요소를 추출하기\n",
        "a[1:, 1:3]             # 오른쪽 아래의 2×2의 배열을 꺼냄 # 1부터 끝까지"
      ],
      "execution_count": 74,
      "outputs": [
        {
          "output_type": "execute_result",
          "data": {
            "text/plain": [
              "array([[4, 5],\n",
              "       [7, 8]])"
            ]
          },
          "metadata": {
            "tags": []
          },
          "execution_count": 74
        }
      ]
    },
    {
      "metadata": {
        "id": "LIOmk6UMAeJL",
        "colab_type": "code",
        "outputId": "75e8cacc-47f1-4308-ce6a-3d26fec079df",
        "colab": {
          "base_uri": "https://localhost:8080/",
          "height": 35
        }
      },
      "cell_type": "code",
      "source": [
        "# 인덱스에 리스트를 지정한다\n",
        "# 인덱스에 리스트를 전달하여 여러 요소를 추출하기\n",
        "d = np.arange(1, 10)        # 1에서 9까지의 array를 만듦\n",
        "d[[1, 3, 5, 7]]             # 짝수만 꺼냄 # 인덱스에 대괄호를 넣어줌 # 이해를 해야해요!"
      ],
      "execution_count": 76,
      "outputs": [
        {
          "output_type": "execute_result",
          "data": {
            "text/plain": [
              "array([2, 4, 6, 8])"
            ]
          },
          "metadata": {
            "tags": []
          },
          "execution_count": 76
        }
      ]
    },
    {
      "metadata": {
        "id": "WXWuj2CHAeJN",
        "colab_type": "text"
      },
      "cell_type": "markdown",
      "source": [
        "### array 연결 (중요)"
      ]
    },
    {
      "metadata": {
        "id": "UiowQMzoAeJO",
        "colab_type": "code",
        "outputId": "636e9423-7b48-443a-9e50-44153fad4598",
        "colab": {
          "base_uri": "https://localhost:8080/",
          "height": 53
        }
      },
      "cell_type": "code",
      "source": [
        "# 횡 방향으로 연결한다\n",
        "a = np.arange(4).reshape(2, 2)      # 2×2, 0에서 3까지의 array # [0, 1, 5, 6]\n",
        "b = np.arange(5, 9).reshape(2, 2)   # 2×2, 5에서 8까지의 array # [2, 3, 7, 8]\n",
        "np.hstack((a, b)) # 튜플로 넣어줌 # 가로로 확장(합성)"
      ],
      "execution_count": 77,
      "outputs": [
        {
          "output_type": "execute_result",
          "data": {
            "text/plain": [
              "array([[0, 1, 5, 6],\n",
              "       [2, 3, 7, 8]])"
            ]
          },
          "metadata": {
            "tags": []
          },
          "execution_count": 77
        }
      ]
    },
    {
      "metadata": {
        "id": "NVBnaWkhAeJQ",
        "colab_type": "code",
        "colab": {}
      },
      "cell_type": "code",
      "source": [
        "# 종 방향으로 연결한다\n",
        "a = np.arange(4).reshape(2, 2)      # 2×2, 0에서 3까지의 array\n",
        "b = np.arange(5, 9).reshape(2, 2)   # 2×2, 5에서 8까지의 array\n",
        "np.vstack((a, b))\n",
        "\n",
        "# 세로로 확장(합성)"
      ],
      "execution_count": 0,
      "outputs": []
    },
    {
      "metadata": {
        "id": "_7TtgjYEAeJS",
        "colab_type": "text"
      },
      "cell_type": "markdown",
      "source": [
        "### np.c_[]  & np._r[]  (column & row)"
      ]
    },
    {
      "metadata": {
        "id": "-daZHxprUdnU",
        "colab_type": "code",
        "colab": {
          "base_uri": "https://localhost:8080/",
          "height": 71
        },
        "outputId": "65a0e3ba-9077-4f5a-c1a8-a75c77be6402"
      },
      "cell_type": "code",
      "source": [
        "a,b"
      ],
      "execution_count": 78,
      "outputs": [
        {
          "output_type": "execute_result",
          "data": {
            "text/plain": [
              "(array([[0, 1],\n",
              "        [2, 3]]), array([[5, 6],\n",
              "        [7, 8]]))"
            ]
          },
          "metadata": {
            "tags": []
          },
          "execution_count": 78
        }
      ]
    },
    {
      "metadata": {
        "id": "o9F5vIchAeJT",
        "colab_type": "code",
        "colab": {}
      },
      "cell_type": "code",
      "source": [
        "np.c_[a, b] # 가로 방향으로 합성 # 반드시 대괄호! # a,b 배열을 colum으로!"
      ],
      "execution_count": 0,
      "outputs": []
    },
    {
      "metadata": {
        "id": "G6ocgz79AeJV",
        "colab_type": "code",
        "colab": {}
      },
      "cell_type": "code",
      "source": [
        "np.r_[a, b] # 세로 방향으로 합성(row)"
      ],
      "execution_count": 0,
      "outputs": []
    },
    {
      "metadata": {
        "id": "viXV60n1AeJY",
        "colab_type": "text"
      },
      "cell_type": "markdown",
      "source": [
        "### array의 복사(copy)"
      ]
    },
    {
      "metadata": {
        "id": "AwOrKbr-AeJZ",
        "colab_type": "code",
        "outputId": "7c4689e6-d3c7-4102-c4fe-31e83bd81d69",
        "colab": {
          "base_uri": "https://localhost:8080/",
          "height": 35
        }
      },
      "cell_type": "code",
      "source": [
        "# array끼리의 대입\n",
        "# 내장 리스트형과 마찬가지로 array의 대입 복사된다\n",
        "# (변수가 동일한 array에 대한 참조 포함)\n",
        "a = np.zeros(4)     # 4개의 0으로 array를 만듦\n",
        "b = a               # b에 대입 # a를 b에 대입 # 대입을 하면 두개의 변수가 같은 주소를 참조하게 된다\n",
        "b += 1              # 각 요소에 1을 더함\n",
        "a                   # a의 내용을 표시 (동일한 주소로 참조)"
      ],
      "execution_count": 79,
      "outputs": [
        {
          "output_type": "execute_result",
          "data": {
            "text/plain": [
              "array([1., 1., 1., 1.])"
            ]
          },
          "metadata": {
            "tags": []
          },
          "execution_count": 79
        }
      ]
    },
    {
      "metadata": {
        "id": "wLpgvojXAeJa",
        "colab_type": "code",
        "outputId": "1ffc81dc-a793-423b-d13e-e071084f54e6",
        "colab": {
          "base_uri": "https://localhost:8080/",
          "height": 35
        }
      },
      "cell_type": "code",
      "source": [
        "# 존재하는 array에서 다른 array를 생성하고 싶을 때는 명시적으로 복사한다\n",
        "a = np.zeros(4)     # 4개의 0으로 array를 만듦\n",
        "b = a.copy()        # b에 대입 # copy()라는 함수를 이용해서 복사하면 두 개의 변수가 다른 주소를 참조하게 된다.\n",
        "                               # 같은 값을 가졌지만, 다른 공간을 사용하고 싶을 때 copy() 함수를 사용한다.\n",
        "b += 1              # 각 요소에 1을 더함\n",
        "a,b                 # a,b의 내용을 표시"
      ],
      "execution_count": 80,
      "outputs": [
        {
          "output_type": "execute_result",
          "data": {
            "text/plain": [
              "(array([0., 0., 0., 0.]), array([1., 1., 1., 1.]))"
            ]
          },
          "metadata": {
            "tags": []
          },
          "execution_count": 80
        }
      ]
    },
    {
      "metadata": {
        "id": "e41R0LZ4AeJd",
        "colab_type": "text"
      },
      "cell_type": "markdown",
      "source": [
        "***"
      ]
    },
    {
      "metadata": {
        "id": "8J30BDlqAeJe",
        "colab_type": "text"
      },
      "cell_type": "markdown",
      "source": [
        "## [wk10] homework\n",
        "\n",
        "> 다음 Youtube 강의 2편를 들으면서 파이썬 노트북을 하나 만들어서 각자의 github에 올리시오.(마감: 2018.11.3(토). 24:00)\n",
        "\n",
        "#### 제출 파일명: Summary_numpy.ipynb\n"
      ]
    },
    {
      "metadata": {
        "id": "m5LWe8AEAeJe",
        "colab_type": "code",
        "colab": {}
      },
      "cell_type": "code",
      "source": [
        "from IPython.lib.display import YouTubeVideo\n",
        "YouTubeVideo('ku9-AxaznSA')  # numpy 기초 I"
      ],
      "execution_count": 0,
      "outputs": []
    },
    {
      "metadata": {
        "id": "H4ii3VL5AeJh",
        "colab_type": "code",
        "colab": {}
      },
      "cell_type": "code",
      "source": [
        "YouTubeVideo('dnJ3JESmBkE')  # numpy 기초 II"
      ],
      "execution_count": 0,
      "outputs": []
    },
    {
      "metadata": {
        "id": "7o72xDB2AeJj",
        "colab_type": "code",
        "colab": {}
      },
      "cell_type": "code",
      "source": [
        "A= np.array([1,2,3])\n",
        "B= np.array([4,5,6])"
      ],
      "execution_count": 0,
      "outputs": []
    },
    {
      "metadata": {
        "id": "snHAuOVuAeJl",
        "colab_type": "code",
        "outputId": "5feeafa6-1c94-4f5d-fcc5-183f2897ca96",
        "colab": {
          "base_uri": "https://localhost:8080/",
          "height": 125
        }
      },
      "cell_type": "code",
      "source": [
        "A-B,A*B,A/B,A%B,A//B,B//A\n",
        "\n",
        "# 인덱스끼리 일치해서 뺄셈\n",
        "# 맞춰서 나눠줌 # 강의에서 답이 이상해도 당황하지 말기 # 오류, 실수\n",
        "# % 나머지\n",
        "# //는 몫 # 정수부분만 가져와요"
      ],
      "execution_count": 85,
      "outputs": [
        {
          "output_type": "execute_result",
          "data": {
            "text/plain": [
              "(array([-3, -3, -3]),\n",
              " array([ 4, 10, 18]),\n",
              " array([0.25, 0.4 , 0.5 ]),\n",
              " array([1, 2, 3]),\n",
              " array([0, 0, 0]),\n",
              " array([4, 2, 2]))"
            ]
          },
          "metadata": {
            "tags": []
          },
          "execution_count": 85
        }
      ]
    },
    {
      "metadata": {
        "id": "My75_kZsAeJm",
        "colab_type": "code",
        "colab": {}
      },
      "cell_type": "code",
      "source": [
        "C= np.array([1,2,3])\n",
        "D=C.reshape(1,3) \n",
        "# C랑 D랑 달라? 달라요 \n",
        "# C, D를 찍어보니까 C는 1,2,3을 요소로 가진거고 D응 123를 하나의 요소로 가진거야(대괄호 두번)\n",
        "\n",
        "#c        #d                                              \n",
        "#0\n",
        "#0        (0 0 0)   파이썬에서는 주로 세로 사용(c)\n",
        "#0"
      ],
      "execution_count": 0,
      "outputs": []
    },
    {
      "metadata": {
        "id": "NSdFsaF4AeJo",
        "colab_type": "code",
        "outputId": "648d10ad-ee4c-46e3-911d-71007a6601f3",
        "colab": {
          "base_uri": "https://localhost:8080/",
          "height": 35
        }
      },
      "cell_type": "code",
      "source": [
        "C,D"
      ],
      "execution_count": 87,
      "outputs": [
        {
          "output_type": "execute_result",
          "data": {
            "text/plain": [
              "(array([1, 2, 3]), array([[1, 2, 3]]))"
            ]
          },
          "metadata": {
            "tags": []
          },
          "execution_count": 87
        }
      ]
    },
    {
      "metadata": {
        "id": "L7fVCdqrAeJp",
        "colab_type": "code",
        "outputId": "6a7d3327-21f6-4644-9883-c19e5d1eb865",
        "colab": {
          "base_uri": "https://localhost:8080/",
          "height": 35
        }
      },
      "cell_type": "code",
      "source": [
        "C.shape,D.shape # 앞의 3은 행"
      ],
      "execution_count": 88,
      "outputs": [
        {
          "output_type": "execute_result",
          "data": {
            "text/plain": [
              "((3,), (1, 3))"
            ]
          },
          "metadata": {
            "tags": []
          },
          "execution_count": 88
        }
      ]
    },
    {
      "metadata": {
        "id": "ICqcaBHFAeJr",
        "colab_type": "text"
      },
      "cell_type": "markdown",
      "source": [
        "***"
      ]
    }
  ]
}