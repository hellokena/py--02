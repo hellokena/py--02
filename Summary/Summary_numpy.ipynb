{
  "nbformat": 4,
  "nbformat_minor": 0,
  "metadata": {
    "colab": {
      "name": "Summary_numpy.ipynb",
      "version": "0.3.2",
      "provenance": [],
      "collapsed_sections": [],
      "include_colab_link": true
    },
    "kernelspec": {
      "name": "python3",
      "display_name": "Python 3"
    }
  },
  "cells": [
    {
      "cell_type": "markdown",
      "metadata": {
        "id": "view-in-github",
        "colab_type": "text"
      },
      "source": [
        "<a href=\"https://colab.research.google.com/github/hellokena/py-02/blob/master/Summary/Summary_numpy.ipynb\" target=\"_parent\"><img src=\"https://colab.research.google.com/assets/colab-badge.svg\" alt=\"Open In Colab\"/></a>"
      ]
    },
    {
      "metadata": {
        "id": "-NlT0Q3ySGZx",
        "colab_type": "toc"
      },
      "cell_type": "markdown",
      "source": [
        ">>[[wk10] homework](#scrollTo=nY5irys9FA3G)\n",
        "\n",
        ">>>>[제출 파일명: Summary_numpy.ipynb](#scrollTo=nY5irys9FA3G)\n",
        "\n",
        ">>[numpy 기초 I](#scrollTo=7v-p-7YhF0Ee)\n",
        "\n",
        ">>>[라이브러리 - overview](#scrollTo=DspH406kFOvt)\n",
        "\n",
        ">>>>[파이썬 코드에서 라이브러리 사용법](#scrollTo=KzGK8gGOFbMh)\n",
        "\n",
        ">>>[numpy의 기본 개념과 사용법](#scrollTo=LoqHI0anJp45)\n",
        "\n",
        ">>>[numpy](#scrollTo=UyJ2u1ulOeMY)\n",
        "\n",
        ">>>[라이브러리 - numpy](#scrollTo=FuXEqrWxKSMD)\n",
        "\n",
        ">>>>[numpy](#scrollTo=eG-beRi4OxDQ)\n",
        "\n",
        ">>>>[numpy vs list](#scrollTo=1GRDgOMSO0Ue)\n",
        "\n",
        ">>>[라이브러리 - numpy vector (1차원 배열)](#scrollTo=wnbcbK6CL3f6)\n",
        "\n",
        ">>>>[벡터(vector 생성)](#scrollTo=2eHBvs3oL9mg)\n",
        "\n",
        ">>>>[벡터(vector) 산술연산](#scrollTo=SgzHpEHWOUal)\n",
        "\n",
        ">>>[라이브러리 - numpy matrix (행렬, 2차원 행렬)](#scrollTo=i0XirkyNPHbf)\n",
        "\n",
        ">>>>[행렬(matrix) 생성](#scrollTo=7S_OP_XDPHOz)\n",
        "\n",
        ">>>>[형 변환 (reshape)](#scrollTo=n531zo3MPPDG)\n",
        "\n",
        ">>[numpy 기초 II](#scrollTo=Xiabni-BSlKm)\n",
        "\n",
        ">>>[numpy](#scrollTo=TILObDBEQ1uD)\n",
        "\n",
        ">>>[라이브러리 - numpy 행렬 곱 (dot product) (I)](#scrollTo=6wuSTxejSm_T)\n",
        "\n",
        ">>>>[행렬 곱 (dot product)](#scrollTo=QEaCa0xPS2-c)\n",
        "\n",
        ">>>[라이브러리 - numpy 행렬 곱 (dot product) (II)](#scrollTo=z3dhsOxVUqJO)\n",
        "\n",
        ">>>>[행렬 곱 (dot product)](#scrollTo=8hgi7p1UUqAd)\n",
        "\n",
        ">>>[라이브러리 - numpy broadcast](#scrollTo=2cXBui-eVK_A)\n",
        "\n",
        ">>>>>[※ 혼동되는 경우](#scrollTo=TzGXWCtsU8UU)\n",
        "\n",
        ">>>[라이브러리 - numpy 전치행렬 (transpose)](#scrollTo=WYLoNuBnAmPW)\n",
        "\n",
        ">>>>[전치행렬 (transpose)](#scrollTo=zkikwnt8BTcd)\n",
        "\n",
        ">>>[라이브러리 - numpy 행렬 indexing / slicing](#scrollTo=YfcobG_kC7eU)\n",
        "\n",
        ">>>>[행렬 원소 접근 (I)](#scrollTo=9hiEcc9gC7aC)\n",
        "\n",
        ">>>>>[참조 : [머신러닝 강의 02] 파이썬 데이터 타입](#scrollTo=kW86e1RKXfoC)\n",
        "\n",
        ">>>[라이브러리 - numpy 행렬 iterator](#scrollTo=tqCe9JicMteb)\n",
        "\n",
        ">>>>[행렬 원소 접근 (II)](#scrollTo=yfucRzoGMwoQ)\n",
        "\n"
      ]
    },
    {
      "metadata": {
        "id": "nY5irys9FA3G",
        "colab_type": "text"
      },
      "cell_type": "markdown",
      "source": [
        "## [wk10] homework\n",
        "\n",
        "> 다음 Youtube 강의 2편를 들으면서 파이썬 노트북을 하나 만들어서 각자의 github에 올리시오.(마감: 2018.11.3(토). 24:00)\n",
        "\n",
        "#### 제출 파일명: Summary_numpy.ipynb\n"
      ]
    },
    {
      "metadata": {
        "id": "Hkvsx2eFE_g2",
        "colab_type": "code",
        "outputId": "08d0bdf0-b3c4-4227-e400-dfb4e317861a",
        "colab": {
          "base_uri": "https://localhost:8080/",
          "height": 318
        }
      },
      "cell_type": "code",
      "source": [
        "from IPython.lib.display import YouTubeVideo\n",
        "YouTubeVideo('ku9-AxaznSA')  # numpy 기초 I"
      ],
      "execution_count": 1,
      "outputs": [
        {
          "output_type": "execute_result",
          "data": {
            "text/html": [
              "\n",
              "        <iframe\n",
              "            width=\"400\"\n",
              "            height=\"300\"\n",
              "            src=\"https://www.youtube.com/embed/ku9-AxaznSA\"\n",
              "            frameborder=\"0\"\n",
              "            allowfullscreen\n",
              "        ></iframe>\n",
              "        "
            ],
            "text/plain": [
              "<IPython.lib.display.YouTubeVideo at 0x7fa7c24f7908>"
            ],
            "image/jpeg": "[encoded data removed]"
          },
          "metadata": {
            "tags": []
          },
          "execution_count": 1
        }
      ]
    },
    {
      "metadata": {
        "id": "j36dJEtKFE-z",
        "colab_type": "code",
        "outputId": "0d24def2-fb4c-4169-dbc9-dab6e39fd26a",
        "colab": {
          "base_uri": "https://localhost:8080/",
          "height": 318
        }
      },
      "cell_type": "code",
      "source": [
        "YouTubeVideo('dnJ3JESmBkE')  # numpy 기초 II"
      ],
      "execution_count": 2,
      "outputs": [
        {
          "output_type": "execute_result",
          "data": {
            "text/html": [
              "\n",
              "        <iframe\n",
              "            width=\"400\"\n",
              "            height=\"300\"\n",
              "            src=\"https://www.youtube.com/embed/dnJ3JESmBkE\"\n",
              "            frameborder=\"0\"\n",
              "            allowfullscreen\n",
              "        ></iframe>\n",
              "        "
            ],
            "text/plain": [
              "<IPython.lib.display.YouTubeVideo at 0x7fa7c1fff160>"
            ],
            "image/jpeg": "[encoded data removed]"
          },
          "metadata": {
            "tags": []
          },
          "execution_count": 2
        }
      ]
    },
    {
      "metadata": {
        "id": "7v-p-7YhF0Ee",
        "colab_type": "text"
      },
      "cell_type": "markdown",
      "source": [
        "## numpy 기초 I"
      ]
    },
    {
      "metadata": {
        "id": "DspH406kFOvt",
        "colab_type": "text"
      },
      "cell_type": "markdown",
      "source": [
        "### 라이브러리 - overview"
      ]
    },
    {
      "metadata": {
        "id": "KzGK8gGOFbMh",
        "colab_type": "text"
      },
      "cell_type": "markdown",
      "source": [
        "\n",
        "\n",
        "#### 파이썬 코드에서 라이브러리 사용법 \n",
        "\n",
        "\n",
        "\n",
        "\n"
      ]
    },
    {
      "metadata": {
        "id": "4vBNeBRZHpYx",
        "colab_type": "text"
      },
      "cell_type": "markdown",
      "source": [
        "설치된 라이브러리를 소스 코드에서 어떻게 import 하는지?\n",
        "\n",
        "1.   라이브러리의 이름을 바로 import\n",
        "2.   라이브러리의 별명 지정(가장 일반적)\n",
        "3.   from을 이용하는 방식\n",
        "4. 필요한 라이브러리의 모든 API를 사용(*)\n"
      ]
    },
    {
      "metadata": {
        "id": "C7lH5ZkJFG3f",
        "colab_type": "code",
        "outputId": "6de234a5-93e7-4e66-cf8f-b0f870420ee6",
        "colab": {
          "base_uri": "https://localhost:8080/",
          "height": 35
        }
      },
      "cell_type": "code",
      "source": [
        "# 1. 라이브러리의 이름을 바로 import\n",
        "\n",
        "import numpy\n",
        "\n",
        "A = numpy.array([1,2])\n",
        "\n",
        "print(\"A ==\", A, \", type ==\", type(A))"
      ],
      "execution_count": 3,
      "outputs": [
        {
          "output_type": "stream",
          "text": [
            "A == [1 2] , type == <class 'numpy.ndarray'>\n"
          ],
          "name": "stdout"
        }
      ]
    },
    {
      "metadata": {
        "id": "t0XfMCR8Fqg0",
        "colab_type": "code",
        "outputId": "21ba633d-b9bd-4612-cf8c-a15e7ba46064",
        "colab": {
          "base_uri": "https://localhost:8080/",
          "height": 35
        }
      },
      "cell_type": "code",
      "source": [
        "# 2. 라이브러리의 별명 지정(가장 일반적)\n",
        "\n",
        "import numpy as np\n",
        "\n",
        "A = np.array([1,2])\n",
        "\n",
        "print(\"A ==\", A, \", type ==\", type(A))"
      ],
      "execution_count": 4,
      "outputs": [
        {
          "output_type": "stream",
          "text": [
            "A == [1 2] , type == <class 'numpy.ndarray'>\n"
          ],
          "name": "stdout"
        }
      ]
    },
    {
      "metadata": {
        "id": "36N8y6srFv_8",
        "colab_type": "code",
        "outputId": "0beac226-7d9d-41bb-9f9a-39a37c8b174e",
        "colab": {
          "base_uri": "https://localhost:8080/",
          "height": 35
        }
      },
      "cell_type": "code",
      "source": [
        "# 3. from을 이용하는 방식\n",
        "# 해당 API의 이름을 쓰지 않고 API를 바로 쓸수있는 장점이 있음\n",
        "# numpy 라이브러리에 속해있는 exp() API\n",
        "\n",
        "from numpy import exp\n",
        "\n",
        "result = exp(1) # from을 사용하였기 때문에 numpy.exp()라고 하지 않고 바로 exp()로 사용가능\n",
        "\n",
        "print(\"result ==\", result, \", type ==\", type(result))"
      ],
      "execution_count": 5,
      "outputs": [
        {
          "output_type": "stream",
          "text": [
            "result == 2.718281828459045 , type == <class 'numpy.float64'>\n"
          ],
          "name": "stdout"
        }
      ]
    },
    {
      "metadata": {
        "id": "zJeinmOPGOSv",
        "colab_type": "code",
        "outputId": "78d5e527-2026-4d67-b326-291d1b373c4e",
        "colab": {
          "base_uri": "https://localhost:8080/",
          "height": 35
        }
      },
      "cell_type": "code",
      "source": [
        "# 4. 필요한 라이브러리의 모든 API를 사용\n",
        "\n",
        "from numpy import *\n",
        "\n",
        "result = exp(1) + log(1.7) + sqrt(2) # from을 사용하였기 때문에 API의 라이브러리의 이름을 사용하지 않고 직접 API를 기술\n",
        "\n",
        "print(\"result ==\", result, \", type ==\", type(result))"
      ],
      "execution_count": 6,
      "outputs": [
        {
          "output_type": "stream",
          "text": [
            "result == 4.663123641894311 , type == <class 'numpy.float64'>\n"
          ],
          "name": "stdout"
        }
      ]
    },
    {
      "metadata": {
        "id": "dmwY9mEMGgCw",
        "colab_type": "text"
      },
      "cell_type": "markdown",
      "source": [
        "\n",
        "\n",
        "\n",
        "---\n",
        "\n",
        "\n",
        "\n"
      ]
    },
    {
      "metadata": {
        "id": "LoqHI0anJp45",
        "colab_type": "text"
      },
      "cell_type": "markdown",
      "source": [
        "### numpy의 기본 개념과 사용법"
      ]
    },
    {
      "metadata": {
        "id": "UyJ2u1ulOeMY",
        "colab_type": "text"
      },
      "cell_type": "markdown",
      "source": [
        "### numpy\n"
      ]
    },
    {
      "metadata": {
        "id": "R0Bz-dzBGlJh",
        "colab_type": "text"
      },
      "cell_type": "markdown",
      "source": [
        "*   vector / matrix 생성 -  **numpy 기초 I**\n",
        "*   행렬 곱 (dot product)\n",
        "*   broadcast\n",
        "*  index / slice / iterator\n",
        "*  concatenate\n",
        "* useful function (loadtxt(), rand(), argmax(), ...)\n",
        "\n",
        "\n"
      ]
    },
    {
      "metadata": {
        "id": "QceyZZIIPFTg",
        "colab_type": "text"
      },
      "cell_type": "markdown",
      "source": [
        "\n",
        "\n",
        "---\n",
        "\n"
      ]
    },
    {
      "metadata": {
        "id": "FuXEqrWxKSMD",
        "colab_type": "text"
      },
      "cell_type": "markdown",
      "source": [
        "### 라이브러리 - numpy"
      ]
    },
    {
      "metadata": {
        "id": "eG-beRi4OxDQ",
        "colab_type": "text"
      },
      "cell_type": "markdown",
      "source": [
        "#### numpy"
      ]
    },
    {
      "metadata": {
        "id": "YgNINkCpKVoX",
        "colab_type": "text"
      },
      "cell_type": "markdown",
      "source": [
        "  * numpy는 머신러닝 코드 개발 할 경우 자주 사용되는 벡터, 행렬 등을 표현하고 연산할 떄 반드시 필요한 라이브러리\n",
        " \n",
        "\n"
      ]
    },
    {
      "metadata": {
        "id": "1GRDgOMSO0Ue",
        "colab_type": "text"
      },
      "cell_type": "markdown",
      "source": [
        "#### **numpy vs list**"
      ]
    },
    {
      "metadata": {
        "id": "8xy25VVSKsS3",
        "colab_type": "text"
      },
      "cell_type": "markdown",
      "source": [
        "  * 머신러닝에서 숫자, 사람, 동물 등의 인식을 하기 위해서는 이미지(image) 데이터를 행렬(matrix)로 변환하는 것이 중요함\n",
        "\n",
        "  * 행렬(matrix)을 나타내기 위해서는 리스트(list)를 사용할 수도 있지만, 행렬 연산이 직관적이지 않고 오류 가능성이 높기 때문에, **행렬 연산을 위해서는 numpy 사용이 필수임**\n",
        "\n"
      ]
    },
    {
      "metadata": {
        "id": "uBqur7StKVUs",
        "colab_type": "code",
        "colab": {}
      },
      "cell_type": "code",
      "source": [
        "import numpy as np"
      ],
      "execution_count": 0,
      "outputs": []
    },
    {
      "metadata": {
        "id": "m8kcykSIGkMs",
        "colab_type": "code",
        "colab": {}
      },
      "cell_type": "code",
      "source": [
        "# 리스트로 행렬 표현\n",
        "\n",
        "A = [ [1, 0], [0, 1] ]\n",
        "B = [ [1, 1], [1, 1] ] # 리스트의 확장"
      ],
      "execution_count": 0,
      "outputs": []
    },
    {
      "metadata": {
        "id": "qjTHwgMqiIN-",
        "colab_type": "code",
        "outputId": "c48f668f-e3ab-4bc3-e0ca-92c235445bb0",
        "colab": {
          "base_uri": "https://localhost:8080/",
          "height": 35
        }
      },
      "cell_type": "code",
      "source": [
        "A + B   # 행렬 연산이 아닌 리스트 연산"
      ],
      "execution_count": 9,
      "outputs": [
        {
          "output_type": "execute_result",
          "data": {
            "text/plain": [
              "[[1, 0], [0, 1], [1, 1], [1, 1]]"
            ]
          },
          "metadata": {
            "tags": []
          },
          "execution_count": 9
        }
      ]
    },
    {
      "metadata": {
        "id": "fhrJ97bnGfzy",
        "colab_type": "code",
        "colab": {}
      },
      "cell_type": "code",
      "source": [
        "# numpy martix, 직관적임\n",
        "\n",
        "A = np.array([ [1, 0], [0, 1] ])\n",
        "B = np.array([ [1, 1], [1, 1] ]) # 우리가 생각하는 일반적인 행렬 연산"
      ],
      "execution_count": 0,
      "outputs": []
    },
    {
      "metadata": {
        "id": "fE8LFlKEiVqi",
        "colab_type": "code",
        "outputId": "5abd980a-41a0-47ea-bd10-1a7e5a2e946b",
        "colab": {
          "base_uri": "https://localhost:8080/",
          "height": 54
        }
      },
      "cell_type": "code",
      "source": [
        "A + B   # 행렬 연산"
      ],
      "execution_count": 11,
      "outputs": [
        {
          "output_type": "execute_result",
          "data": {
            "text/plain": [
              "array([[2, 1],\n",
              "       [1, 2]])"
            ]
          },
          "metadata": {
            "tags": []
          },
          "execution_count": 11
        }
      ]
    },
    {
      "metadata": {
        "id": "6rk_8TJxPCrY",
        "colab_type": "text"
      },
      "cell_type": "markdown",
      "source": [
        "\n",
        "\n",
        "---\n",
        "\n"
      ]
    },
    {
      "metadata": {
        "id": "wnbcbK6CL3f6",
        "colab_type": "text"
      },
      "cell_type": "markdown",
      "source": [
        "### 라이브러리 - numpy vector (1차원 배열)"
      ]
    },
    {
      "metadata": {
        "id": "2eHBvs3oL9mg",
        "colab_type": "text"
      },
      "cell_type": "markdown",
      "source": [
        "#### 벡터(vector 생성)"
      ]
    },
    {
      "metadata": {
        "id": "4YxKROQqMXJE",
        "colab_type": "text"
      },
      "cell_type": "markdown",
      "source": [
        "*  vector는 np.array([...]) - Array 메소드를 사용하여 생성함 (import numpy as np)\n",
        "\n",
        "*   머신러닝 코드 구현 시, **연산을 위해서 vector, matrix 등의 형상(shape), 차원(dimension)을 확인하는 것이 필요함**\n",
        "\n",
        "\n"
      ]
    },
    {
      "metadata": {
        "id": "Gu1FbSPdNTQm",
        "colab_type": "code",
        "colab": {}
      },
      "cell_type": "code",
      "source": [
        "A = np.array([1, 2, 3])\n",
        "B = np.array([4, 5, 6]) # not list "
      ],
      "execution_count": 0,
      "outputs": []
    },
    {
      "metadata": {
        "id": "Dcqe5g6OiZwI",
        "colab_type": "code",
        "outputId": "2eab6c83-011f-4b36-8bf0-0626bddec273",
        "colab": {
          "base_uri": "https://localhost:8080/",
          "height": 35
        }
      },
      "cell_type": "code",
      "source": [
        "# vector A, B 출력\n",
        "print(\"A ==\", A, \" B == \", B)"
      ],
      "execution_count": 13,
      "outputs": [
        {
          "output_type": "stream",
          "text": [
            "A == [1 2 3]  B ==  [4 5 6]\n"
          ],
          "name": "stdout"
        }
      ]
    },
    {
      "metadata": {
        "id": "U6-BDh9TiZmK",
        "colab_type": "code",
        "outputId": "ce354c50-932e-461e-958d-c84b39b302fd",
        "colab": {
          "base_uri": "https://localhost:8080/",
          "height": 35
        }
      },
      "cell_type": "code",
      "source": [
        "# vector의 형상을 확인하기 위한 shape 메소드\n",
        "# vector는 numpy에서 행과 열을 별도로 구별하지 않기 때문에 3이라는 원소의 개수 나타냄\n",
        "# vector A, B 형상 출력 => shape\n",
        "print(\"A.shape ==\", A.shape, \", B.shape ==\", B.shape)"
      ],
      "execution_count": 14,
      "outputs": [
        {
          "output_type": "stream",
          "text": [
            "A.shape == (3,) , B.shape == (3,)\n"
          ],
          "name": "stdout"
        }
      ]
    },
    {
      "metadata": {
        "id": "-tlr3_KniZa5",
        "colab_type": "code",
        "outputId": "657a8b05-1dfd-48d9-f9a5-e20a60ef6d21",
        "colab": {
          "base_uri": "https://localhost:8080/",
          "height": 35
        }
      },
      "cell_type": "code",
      "source": [
        "# vector의 차원을 확인하기 위한 ndim 메소드\n",
        "# A, B 둘 다 행과 열을 가지지 않는 vector로써 1 출력\n",
        "# vector A, B 차원 출력 => ndim\n",
        "print(\"A.ndim ==\", A.ndim, \", B.ndim ==\", B.ndim)"
      ],
      "execution_count": 15,
      "outputs": [
        {
          "output_type": "stream",
          "text": [
            "A.ndim == 1 , B.ndim == 1\n"
          ],
          "name": "stdout"
        }
      ]
    },
    {
      "metadata": {
        "id": "SgzHpEHWOUal",
        "colab_type": "text"
      },
      "cell_type": "markdown",
      "source": [
        "#### 벡터(vector) 산술연산"
      ]
    },
    {
      "metadata": {
        "id": "lHGsaOrWMoDr",
        "colab_type": "text"
      },
      "cell_type": "markdown",
      "source": [
        "*   vector 간 산술연산( +, -, *, /)은 벡터의 각각의 원소에 대해서 행해짐"
      ]
    },
    {
      "metadata": {
        "id": "HkF3oynIMnds",
        "colab_type": "code",
        "outputId": "0203280f-552f-438f-bcd9-1014f598c828",
        "colab": {
          "base_uri": "https://localhost:8080/",
          "height": 35
        }
      },
      "cell_type": "code",
      "source": [
        "# vector 산술 연산\n",
        "\n",
        "print(\"A + B ==\", A+B)"
      ],
      "execution_count": 16,
      "outputs": [
        {
          "output_type": "stream",
          "text": [
            "A + B == [5 7 9]\n"
          ],
          "name": "stdout"
        }
      ]
    },
    {
      "metadata": {
        "id": "YFAINUoHijSW",
        "colab_type": "code",
        "outputId": "7e6fa52f-434f-416b-f08f-e8c71d9f5996",
        "colab": {
          "base_uri": "https://localhost:8080/",
          "height": 35
        }
      },
      "cell_type": "code",
      "source": [
        "print(\"A - B ==\", A-B)"
      ],
      "execution_count": 17,
      "outputs": [
        {
          "output_type": "stream",
          "text": [
            "A - B == [-3 -3 -3]\n"
          ],
          "name": "stdout"
        }
      ]
    },
    {
      "metadata": {
        "id": "gn6a-bQfijK_",
        "colab_type": "code",
        "outputId": "3e7369f2-8931-4556-c679-18c6aef6b680",
        "colab": {
          "base_uri": "https://localhost:8080/",
          "height": 35
        }
      },
      "cell_type": "code",
      "source": [
        "print(\"A * B ==\", A*B)"
      ],
      "execution_count": 18,
      "outputs": [
        {
          "output_type": "stream",
          "text": [
            "A * B == [ 4 10 18]\n"
          ],
          "name": "stdout"
        }
      ]
    },
    {
      "metadata": {
        "id": "cEhrG_lQijDT",
        "colab_type": "code",
        "outputId": "15dd4c88-cee9-48ef-a23c-641e9ef3351c",
        "colab": {
          "base_uri": "https://localhost:8080/",
          "height": 35
        }
      },
      "cell_type": "code",
      "source": [
        "print(\"A / B ==\", A/B)"
      ],
      "execution_count": 19,
      "outputs": [
        {
          "output_type": "stream",
          "text": [
            "A / B == [0.25 0.4  0.5 ]\n"
          ],
          "name": "stdout"
        }
      ]
    },
    {
      "metadata": {
        "id": "75n1buGIPHfM",
        "colab_type": "text"
      },
      "cell_type": "markdown",
      "source": [
        "\n",
        "\n",
        "---\n",
        "\n"
      ]
    },
    {
      "metadata": {
        "id": "i0XirkyNPHbf",
        "colab_type": "text"
      },
      "cell_type": "markdown",
      "source": [
        "### 라이브러리 - numpy matrix (행렬, 2차원 행렬)"
      ]
    },
    {
      "metadata": {
        "id": "7S_OP_XDPHOz",
        "colab_type": "text"
      },
      "cell_type": "markdown",
      "source": [
        "#### 행렬(matrix) 생성"
      ]
    },
    {
      "metadata": {
        "id": "2MZWXguRPPF5",
        "colab_type": "text"
      },
      "cell_type": "markdown",
      "source": [
        "\n",
        "\n",
        "*   matrix는 vector와 마찬가지로 np.array([ [...], [...], ... ])를 사용하여 생성함\n",
        "\n",
        "   (import numpy as np)"
      ]
    },
    {
      "metadata": {
        "id": "JRAsCSVnBJ4L",
        "colab_type": "code",
        "colab": {}
      },
      "cell_type": "code",
      "source": [
        "import numpy as np"
      ],
      "execution_count": 0,
      "outputs": []
    },
    {
      "metadata": {
        "id": "7eO7qtR7Ptnm",
        "colab_type": "code",
        "colab": {}
      },
      "cell_type": "code",
      "source": [
        "A = np.array([ [1, 2, 3], [4, 5, 6] ]) \n",
        "B = np.array([ [-1, -2, -3], [-4, -5, -6] ]) # 대괄호 2개 # 2x3 행렬"
      ],
      "execution_count": 0,
      "outputs": []
    },
    {
      "metadata": {
        "id": "KPqXuecDipfH",
        "colab_type": "code",
        "outputId": "2c206d4a-25a8-48f5-e46a-b94516335609",
        "colab": {
          "base_uri": "https://localhost:8080/",
          "height": 35
        }
      },
      "cell_type": "code",
      "source": [
        "# matrix A, B 형상 출력 => shape\n",
        "print(\"A.shape ==\", A.shape, \", B.shape ==\", B.shape)"
      ],
      "execution_count": 22,
      "outputs": [
        {
          "output_type": "stream",
          "text": [
            "A.shape == (2, 3) , B.shape == (2, 3)\n"
          ],
          "name": "stdout"
        }
      ]
    },
    {
      "metadata": {
        "id": "2fgYyTrfipV1",
        "colab_type": "code",
        "outputId": "39d72ce1-d82a-4e7a-8ade-876357bcde23",
        "colab": {
          "base_uri": "https://localhost:8080/",
          "height": 35
        }
      },
      "cell_type": "code",
      "source": [
        "# matrix A, B 차원 출력 => ndim\n",
        "print(\"A.ndim ==\", A.ndim, \", B.ndim ==\", B.ndim) # 2차원"
      ],
      "execution_count": 23,
      "outputs": [
        {
          "output_type": "stream",
          "text": [
            "A.ndim == 2 , B.ndim == 2\n"
          ],
          "name": "stdout"
        }
      ]
    },
    {
      "metadata": {
        "id": "z1isucKFP2kf",
        "colab_type": "text"
      },
      "cell_type": "markdown",
      "source": [
        "★ 아하 vector는 1차원을 의미하고 matrix는 2차원 이상을 의미하는구나!"
      ]
    },
    {
      "metadata": {
        "id": "n531zo3MPPDG",
        "colab_type": "text"
      },
      "cell_type": "markdown",
      "source": [
        "#### 형 변환 (reshape)"
      ]
    },
    {
      "metadata": {
        "id": "VBpKZ2ewPO43",
        "colab_type": "text"
      },
      "cell_type": "markdown",
      "source": [
        "\n",
        "\n",
        "*   vector를 martix로 변경하거나 matrix를 다른 형상의 matrix로 변경하기 위해서는 reshape() 사용하여 행렬의 shape을 변경하여야 함\n"
      ]
    },
    {
      "metadata": {
        "id": "J1f1QWrWBL6V",
        "colab_type": "code",
        "colab": {}
      },
      "cell_type": "code",
      "source": [
        "import numpy as np"
      ],
      "execution_count": 0,
      "outputs": []
    },
    {
      "metadata": {
        "id": "UhmaqZNjGc-k",
        "colab_type": "code",
        "colab": {}
      },
      "cell_type": "code",
      "source": [
        "# vector 생성\n",
        "\n",
        "C = np.array([1, 2, 3]) # 3개의 원소를 갖는 vector"
      ],
      "execution_count": 0,
      "outputs": []
    },
    {
      "metadata": {
        "id": "HJ5oS9tDjNsV",
        "colab_type": "code",
        "outputId": "c4f52065-6b66-4689-e268-741bb2b21513",
        "colab": {
          "base_uri": "https://localhost:8080/",
          "height": 35
        }
      },
      "cell_type": "code",
      "source": [
        "# vector C형상 출력 => shape\n",
        "print(\"C.shape ==\", C.shape)"
      ],
      "execution_count": 31,
      "outputs": [
        {
          "output_type": "stream",
          "text": [
            "C.shape == (3,)\n"
          ],
          "name": "stdout"
        }
      ]
    },
    {
      "metadata": {
        "id": "gyPsmvTSjNqG",
        "colab_type": "code",
        "colab": {}
      },
      "cell_type": "code",
      "source": [
        "# vector를 (1,3) 행렬로 형 변환\n",
        "C = C.reshape(1, 3) # numpy의 reshape 메소드 사용"
      ],
      "execution_count": 0,
      "outputs": []
    },
    {
      "metadata": {
        "id": "vNN1wRrsjNl3",
        "colab_type": "code",
        "outputId": "c1c3be21-cd48-44bd-b77c-2b6f482adc9a",
        "colab": {
          "base_uri": "https://localhost:8080/",
          "height": 35
        }
      },
      "cell_type": "code",
      "source": [
        "print(\"C.shape ==\", C.shape)"
      ],
      "execution_count": 28,
      "outputs": [
        {
          "output_type": "stream",
          "text": [
            "C.shape == (1, 3)\n"
          ],
          "name": "stdout"
        }
      ]
    },
    {
      "metadata": {
        "id": "kGdo1Nf2RQl6",
        "colab_type": "text"
      },
      "cell_type": "markdown",
      "source": [
        "\n",
        "\n",
        "---\n",
        "\n"
      ]
    },
    {
      "metadata": {
        "id": "Xiabni-BSlKm",
        "colab_type": "text"
      },
      "cell_type": "markdown",
      "source": [
        "## numpy 기초 II"
      ]
    },
    {
      "metadata": {
        "id": "TILObDBEQ1uD",
        "colab_type": "text"
      },
      "cell_type": "markdown",
      "source": [
        "### numpy"
      ]
    },
    {
      "metadata": {
        "id": "LDPKZABQQ3dq",
        "colab_type": "text"
      },
      "cell_type": "markdown",
      "source": [
        "*   vector / matrix 생성\n",
        "*   행렬 곱 (dot product) - **numpy 기초 II**\n",
        "*   broadcast  - **numpy 기초 II**\n",
        "*  index / slice / iterator - **numpy 기초 II**\n",
        "*  concatenate\n",
        "* useful function (loadtxt(), rand(), argmax(), ...)\n",
        "\n",
        "\n"
      ]
    },
    {
      "metadata": {
        "id": "6wuSTxejSm_T",
        "colab_type": "text"
      },
      "cell_type": "markdown",
      "source": [
        "### 라이브러리 - numpy 행렬 곱 (dot product) (I)"
      ]
    },
    {
      "metadata": {
        "id": "QEaCa0xPS2-c",
        "colab_type": "text"
      },
      "cell_type": "markdown",
      "source": [
        "#### 행렬 곱 (dot product)"
      ]
    },
    {
      "metadata": {
        "id": "qIcSHvz5S6dx",
        "colab_type": "text"
      },
      "cell_type": "markdown",
      "source": [
        "\n",
        "\n",
        "*   A 행렬과 B 행렬의 행렬 곱 (dot product)는 np.dot(A, B)로 나타내며, 행렬 A의 열 벡터와 B 행렬의 행 벡터가 같아야 함.\n",
        "\n",
        "   만약 같지 않다면 **reshape 또는 전치행렬 (transpose)등을 사용하여 형 변환을 한 후에 행렬 곱을 실행해야 함**\n"
      ]
    },
    {
      "metadata": {
        "id": "4x5g5I0cBORm",
        "colab_type": "code",
        "colab": {}
      },
      "cell_type": "code",
      "source": [
        "import numpy as np"
      ],
      "execution_count": 0,
      "outputs": []
    },
    {
      "metadata": {
        "id": "CvJBDGbiQ8pN",
        "colab_type": "code",
        "colab": {}
      },
      "cell_type": "code",
      "source": [
        "A = np.array([ [1, 2, 3], [4, 5, 6] ])   # 2X3 행렬\n",
        "B = np.array([ [-1, -2], [-3, -4], [-5, -6] ])   # 3X2 행렬"
      ],
      "execution_count": 0,
      "outputs": []
    },
    {
      "metadata": {
        "id": "UON8FpPIjXeZ",
        "colab_type": "code",
        "colab": {}
      },
      "cell_type": "code",
      "source": [
        "# (2X3) dot product (3X2) == (2X2) 행렬\n",
        "C = np.dot(A, B) # 행렬 곱 수행"
      ],
      "execution_count": 0,
      "outputs": []
    },
    {
      "metadata": {
        "id": "qJq_8w8cjXSn",
        "colab_type": "code",
        "outputId": "66b4d8b0-70af-4a66-97cd-616537f96d03",
        "colab": {
          "base_uri": "https://localhost:8080/",
          "height": 35
        }
      },
      "cell_type": "code",
      "source": [
        "# matrix A, B 형상 출력 => shape\n",
        "print(\"A.shape ==\", A.shape, \", B.shape ==\", B.shape)"
      ],
      "execution_count": 35,
      "outputs": [
        {
          "output_type": "stream",
          "text": [
            "A.shape == (2, 3) , B.shape == (3, 2)\n"
          ],
          "name": "stdout"
        }
      ]
    },
    {
      "metadata": {
        "id": "XycXgFMKjbmL",
        "colab_type": "code",
        "outputId": "cb81de7a-e77b-4c55-e0d2-abb5662b56e6",
        "colab": {
          "base_uri": "https://localhost:8080/",
          "height": 35
        }
      },
      "cell_type": "code",
      "source": [
        "print(\"C.shape ==\", C.shape)"
      ],
      "execution_count": 36,
      "outputs": [
        {
          "output_type": "stream",
          "text": [
            "C.shape == (2, 2)\n"
          ],
          "name": "stdout"
        }
      ]
    },
    {
      "metadata": {
        "id": "tcnQDwXMjbdn",
        "colab_type": "code",
        "outputId": "2bf20cd7-218b-4a1a-a2dc-7b76b614c814",
        "colab": {
          "base_uri": "https://localhost:8080/",
          "height": 54
        }
      },
      "cell_type": "code",
      "source": [
        "print(C)"
      ],
      "execution_count": 37,
      "outputs": [
        {
          "output_type": "stream",
          "text": [
            "[[-22 -28]\n",
            " [-49 -64]]\n"
          ],
          "name": "stdout"
        }
      ]
    },
    {
      "metadata": {
        "id": "QGEl0ZdO-oX6",
        "colab_type": "code",
        "colab": {
          "base_uri": "https://localhost:8080/",
          "height": 54
        },
        "outputId": "158b1220-543a-4853-9d30-4b0329c99dbe"
      },
      "cell_type": "code",
      "source": [
        "C"
      ],
      "execution_count": 38,
      "outputs": [
        {
          "output_type": "execute_result",
          "data": {
            "text/plain": [
              "array([[-22, -28],\n",
              "       [-49, -64]])"
            ]
          },
          "metadata": {
            "tags": []
          },
          "execution_count": 38
        }
      ]
    },
    {
      "metadata": {
        "id": "z3dhsOxVUqJO",
        "colab_type": "text"
      },
      "cell_type": "markdown",
      "source": [
        "### 라이브러리 - numpy 행렬 곱 (dot product) (II)"
      ]
    },
    {
      "metadata": {
        "id": "8hgi7p1UUqAd",
        "colab_type": "text"
      },
      "cell_type": "markdown",
      "source": [
        "#### 행렬 곱 (dot product)\n",
        "\n"
      ]
    },
    {
      "metadata": {
        "id": "7loD56DOUp2c",
        "colab_type": "text"
      },
      "cell_type": "markdown",
      "source": [
        "\n",
        "\n",
        "*    행렬 곱은, 행렬의 원소 개수가 같아야만 계산할 수 있는 사칙연산의 한계를 벗어나\n",
        "\n",
        "\n",
        "\n",
        "1.   **행렬곱 조건을 만족하는 다양한 크기의 행렬을 연속으로 만들고**\n",
        "2.   **행렬 곱을 연속으로 계산하면서**\n",
        "3.   **결과값을 만들 수 있기 때문에 머신러닝과 이미지 프로세싱 분야에서 자주 사용됨**\n",
        "\n",
        "\n",
        "\n",
        "*   [예] 입력 행렬 형상이 64 X 64 이고, 결과 행렬 형상이 64 X 10 이라면, 중간에 dot product를 만족시키는 어떤 형상의 행렬이라고 가질 수 있음\n",
        "\n",
        "\n",
        "\n",
        "*   행렬 곱을 사용하지 않고 산술 연산만 가능하다면, 입력 행렬의 64 X 64 크기를 가지는 특성 값 만을 사용해야 하기 때문에 **다양한 특성을 갖는 필터 개발이 불가능함.**\n",
        "\n",
        "\n",
        "\n"
      ]
    },
    {
      "metadata": {
        "id": "W6MJXtJEV4gP",
        "colab_type": "text"
      },
      "cell_type": "markdown",
      "source": [
        "\n",
        "\n",
        "---\n",
        "\n"
      ]
    },
    {
      "metadata": {
        "id": "2cXBui-eVK_A",
        "colab_type": "text"
      },
      "cell_type": "markdown",
      "source": [
        "### 라이브러리 - numpy broadcast"
      ]
    },
    {
      "metadata": {
        "id": "k8iqtmyEV_bM",
        "colab_type": "text"
      },
      "cell_type": "markdown",
      "source": [
        "\n",
        "\n",
        "*   행렬의 사칙연산은 기본적으로 두 개의 행렬 크기가 같은 경우에만 수행할 수 있음.\n",
        "\n",
        "   그러나 **numpy에서는 크기가 다른 두 행렬간에도 사칙연산( +, -, *, / )을 할 수 있는데 이를 브로드캐스트(broadcast)라고 지칭함**\n",
        "   \n",
        "   => 차원이 작은 쪽이 큰 쪽의 행 단위로 반복적으로 크기를 맞춘(확장) 후에 계산\n",
        "\n"
      ]
    },
    {
      "metadata": {
        "id": "8Z0VPlFKA896",
        "colab_type": "code",
        "colab": {}
      },
      "cell_type": "code",
      "source": [
        "import numpy as np"
      ],
      "execution_count": 0,
      "outputs": []
    },
    {
      "metadata": {
        "id": "IvmwxeJATr55",
        "colab_type": "code",
        "colab": {}
      },
      "cell_type": "code",
      "source": [
        "# A = 1 2  B = 5\n",
        "#     3 4          \n",
        "   \n",
        "#        ↓\n",
        "#    Broadcast : 차원이 낮은 스칼라를 차원이 한단계높은 행렬의 동일한 크기로 확장\n",
        "#        ↓          \n",
        "    \n",
        "# A = 1 2  B = 5 5\n",
        "#     3 4      5 5  "
      ],
      "execution_count": 0,
      "outputs": []
    },
    {
      "metadata": {
        "id": "7yrqcYjVUomX",
        "colab_type": "code",
        "colab": {}
      },
      "cell_type": "code",
      "source": [
        "# 차원이 다른 경우\n",
        "A = np.array([ [1, 2], [3, 4] ])\n",
        "b= 5"
      ],
      "execution_count": 0,
      "outputs": []
    },
    {
      "metadata": {
        "id": "FXowV1ltjkDh",
        "colab_type": "code",
        "outputId": "0b8eb8b7-085f-42a8-9aa1-75e8bf8dae11",
        "colab": {
          "base_uri": "https://localhost:8080/",
          "height": 54
        }
      },
      "cell_type": "code",
      "source": [
        "print(A+b)"
      ],
      "execution_count": 43,
      "outputs": [
        {
          "output_type": "stream",
          "text": [
            "[[6 7]\n",
            " [8 9]]\n"
          ],
          "name": "stdout"
        }
      ]
    },
    {
      "metadata": {
        "id": "bjjH9X-2UF6Z",
        "colab_type": "code",
        "colab": {}
      },
      "cell_type": "code",
      "source": [
        "# A = 1 2  B = 4 5\n",
        "#     3 4          \n",
        "   \n",
        "#        ↓\n",
        "#    Broadcast \n",
        "#        ↓          \n",
        "    \n",
        "# A = 1 2  B = 4 5\n",
        "#     3 4      4 5  "
      ],
      "execution_count": 0,
      "outputs": []
    },
    {
      "metadata": {
        "id": "6OEirMafxvk_",
        "colab_type": "code",
        "colab": {}
      },
      "cell_type": "code",
      "source": [
        "# 크기가 다른 경우 사칙연산이 불가하나 numpy에서는 가능!\n",
        "C = np.array([ [1, 2], [3, 4] ])\n",
        "D = np.array([4, 5])"
      ],
      "execution_count": 0,
      "outputs": []
    },
    {
      "metadata": {
        "id": "kWRHfDBf_dSK",
        "colab_type": "code",
        "colab": {
          "base_uri": "https://localhost:8080/",
          "height": 54
        },
        "outputId": "45934443-e0d0-478d-c569-94ff3de9d67f"
      },
      "cell_type": "code",
      "source": [
        "C"
      ],
      "execution_count": 46,
      "outputs": [
        {
          "output_type": "execute_result",
          "data": {
            "text/plain": [
              "array([[1, 2],\n",
              "       [3, 4]])"
            ]
          },
          "metadata": {
            "tags": []
          },
          "execution_count": 46
        }
      ]
    },
    {
      "metadata": {
        "id": "gTqNzgZeAELa",
        "colab_type": "code",
        "colab": {
          "base_uri": "https://localhost:8080/",
          "height": 35
        },
        "outputId": "79474bcc-b83a-4934-ca74-2bc963ffb238"
      },
      "cell_type": "code",
      "source": [
        "C.ndim"
      ],
      "execution_count": 49,
      "outputs": [
        {
          "output_type": "execute_result",
          "data": {
            "text/plain": [
              "2"
            ]
          },
          "metadata": {
            "tags": []
          },
          "execution_count": 49
        }
      ]
    },
    {
      "metadata": {
        "id": "lKhrAe-Y_e0U",
        "colab_type": "code",
        "colab": {
          "base_uri": "https://localhost:8080/",
          "height": 35
        },
        "outputId": "535b39f0-b039-4ddc-cca4-80364d29e230"
      },
      "cell_type": "code",
      "source": [
        "D"
      ],
      "execution_count": 47,
      "outputs": [
        {
          "output_type": "execute_result",
          "data": {
            "text/plain": [
              "array([4, 5])"
            ]
          },
          "metadata": {
            "tags": []
          },
          "execution_count": 47
        }
      ]
    },
    {
      "metadata": {
        "id": "KFZXtSe0AJE8",
        "colab_type": "code",
        "colab": {
          "base_uri": "https://localhost:8080/",
          "height": 35
        },
        "outputId": "4d167b27-7c37-437b-9d93-002e51d45134"
      },
      "cell_type": "code",
      "source": [
        "D.ndim"
      ],
      "execution_count": 50,
      "outputs": [
        {
          "output_type": "execute_result",
          "data": {
            "text/plain": [
              "1"
            ]
          },
          "metadata": {
            "tags": []
          },
          "execution_count": 50
        }
      ]
    },
    {
      "metadata": {
        "id": "slCPTSBHjvRk",
        "colab_type": "code",
        "outputId": "cb250c44-5b45-4a92-df69-602e971e18d8",
        "colab": {
          "base_uri": "https://localhost:8080/",
          "height": 54
        }
      },
      "cell_type": "code",
      "source": [
        "print(C+D)"
      ],
      "execution_count": 48,
      "outputs": [
        {
          "output_type": "stream",
          "text": [
            "[[5 7]\n",
            " [7 9]]\n"
          ],
          "name": "stdout"
        }
      ]
    },
    {
      "metadata": {
        "id": "TzGXWCtsU8UU",
        "colab_type": "text"
      },
      "cell_type": "markdown",
      "source": [
        "##### ※ 혼동되는 경우\n",
        "\n",
        "\n",
        "* broadcast가 사칙연산 뿐만 아니라 행렬곱에서도 사용된다고 오해\n",
        "\n",
        "* 그러나 **broadcast는 행렬곱 연산에는 적용되지 않고 오로지 사칙연산에만 적용! **"
      ]
    },
    {
      "metadata": {
        "id": "nBYJj5uZAlDc",
        "colab_type": "text"
      },
      "cell_type": "markdown",
      "source": [
        "\n",
        "\n",
        "---\n",
        "\n"
      ]
    },
    {
      "metadata": {
        "id": "WYLoNuBnAmPW",
        "colab_type": "text"
      },
      "cell_type": "markdown",
      "source": [
        "### 라이브러리 - numpy 전치행렬 (transpose)"
      ]
    },
    {
      "metadata": {
        "id": "zkikwnt8BTcd",
        "colab_type": "text"
      },
      "cell_type": "markdown",
      "source": [
        "#### 전치행렬 (transpose)"
      ]
    },
    {
      "metadata": {
        "id": "R3nRMcCEBW2T",
        "colab_type": "text"
      },
      "cell_type": "markdown",
      "source": [
        "\n",
        "\n",
        "*   어떤 행렬의 전치행렬(transposed matrix)은 원본 행렬의 열은 행으로, 행은 열로 바꾼 것으로서, 원본 행렬을 A라고 하면 전치행렬은 A**T로 나타냄.\n",
        "\n",
        "\n",
        "\n",
        "*   즉, 1행은 1열로 바꾸고 2행은 2열로, 3행은 3열로 바꾼 행렬을 의미\n"
      ]
    },
    {
      "metadata": {
        "id": "gKx4KvZCVmkb",
        "colab_type": "code",
        "colab": {}
      },
      "cell_type": "code",
      "source": [
        "# 1 2\n",
        "# 3 4   → transpose → 1 2 3\n",
        "# 5 6                   4 5 6"
      ],
      "execution_count": 0,
      "outputs": []
    },
    {
      "metadata": {
        "id": "MNQBU2kgAyeN",
        "colab_type": "code",
        "colab": {}
      },
      "cell_type": "code",
      "source": [
        "import numpy as np"
      ],
      "execution_count": 0,
      "outputs": []
    },
    {
      "metadata": {
        "id": "GgHIBTvNUodm",
        "colab_type": "code",
        "colab": {}
      },
      "cell_type": "code",
      "source": [
        "A = np.array([ [1, 2], [3, 4], [5, 6] ])   # 3X2행렬"
      ],
      "execution_count": 0,
      "outputs": []
    },
    {
      "metadata": {
        "id": "3MUFCxZxjz0_",
        "colab_type": "code",
        "colab": {}
      },
      "cell_type": "code",
      "source": [
        "B = A.T   # A의 전치행렬, 2X3 행렬 # T 연산자 사용"
      ],
      "execution_count": 0,
      "outputs": []
    },
    {
      "metadata": {
        "id": "C6gBeBVmjzx5",
        "colab_type": "code",
        "outputId": "090bf149-0383-43fe-a5a6-094f69434224",
        "colab": {
          "base_uri": "https://localhost:8080/",
          "height": 35
        }
      },
      "cell_type": "code",
      "source": [
        "print(\"A.shape ==\", A.shape, \", B.shape ==\", B.shape)"
      ],
      "execution_count": 55,
      "outputs": [
        {
          "output_type": "stream",
          "text": [
            "A.shape == (3, 2) , B.shape == (2, 3)\n"
          ],
          "name": "stdout"
        }
      ]
    },
    {
      "metadata": {
        "id": "AjK-H_Hgjzri",
        "colab_type": "code",
        "outputId": "b282a8a0-bf02-4ffe-bf2b-807765d89112",
        "colab": {
          "base_uri": "https://localhost:8080/",
          "height": 72
        }
      },
      "cell_type": "code",
      "source": [
        "print(A)"
      ],
      "execution_count": 56,
      "outputs": [
        {
          "output_type": "stream",
          "text": [
            "[[1 2]\n",
            " [3 4]\n",
            " [5 6]]\n"
          ],
          "name": "stdout"
        }
      ]
    },
    {
      "metadata": {
        "id": "37G8FNw7jzhA",
        "colab_type": "code",
        "outputId": "b290d262-62be-4b89-e175-0dbcdb0d2aaa",
        "colab": {
          "base_uri": "https://localhost:8080/",
          "height": 54
        }
      },
      "cell_type": "code",
      "source": [
        "print(B)"
      ],
      "execution_count": 57,
      "outputs": [
        {
          "output_type": "stream",
          "text": [
            "[[1 3 5]\n",
            " [2 4 6]]\n"
          ],
          "name": "stdout"
        }
      ]
    },
    {
      "metadata": {
        "id": "d_zdVWvzWd-W",
        "colab_type": "text"
      },
      "cell_type": "markdown",
      "source": [
        "\n",
        "\n",
        "*   vector는 행과 열을 구분하지 않는 1차원 행렬이기 때문에 전치행렬을 하더라도 행과 열을 구별\n",
        "*   vector을 강제로 행을 갖는 행렬로 변환시키고자 한다면 reshape() 메소드를 사용\n"
      ]
    },
    {
      "metadata": {
        "id": "9BBKsExxUjua",
        "colab_type": "code",
        "colab": {}
      },
      "cell_type": "code",
      "source": [
        "# vector 전치행렬\n",
        "\n",
        "C = np.array([1, 2, 3, 4, 5])   # vector, matrix 아님"
      ],
      "execution_count": 0,
      "outputs": []
    },
    {
      "metadata": {
        "id": "1SvsNorfj60y",
        "colab_type": "code",
        "colab": {}
      },
      "cell_type": "code",
      "source": [
        "D = C.T # C는 vector 이므로 transpose 안됌\n",
        "# vector는 행과 열을 구분하지 않는 1차원 행렬이기 때문에 전치행렬을 하더라도 행과 열을 구별하지 못함"
      ],
      "execution_count": 0,
      "outputs": []
    },
    {
      "metadata": {
        "id": "Y8-w5ZTGj6u8",
        "colab_type": "code",
        "colab": {}
      },
      "cell_type": "code",
      "source": [
        "# vector을 강제로 행을 갖는 행렬로 변환시키고자 한다면 reshape() 메소드를 사용\n",
        "E = C.reshape(1, 5)   # 1X5 matrix"
      ],
      "execution_count": 0,
      "outputs": []
    },
    {
      "metadata": {
        "id": "aWbUym1vj6oI",
        "colab_type": "code",
        "colab": {}
      },
      "cell_type": "code",
      "source": [
        "F = E.T   # E의 전치 행렬"
      ],
      "execution_count": 0,
      "outputs": []
    },
    {
      "metadata": {
        "id": "Uttr0p1Cj6is",
        "colab_type": "code",
        "outputId": "1ab477a4-400c-4892-bbd3-07439733caf5",
        "colab": {
          "base_uri": "https://localhost:8080/",
          "height": 35
        }
      },
      "cell_type": "code",
      "source": [
        "print(\"C.shape ==\", C.shape, \", D.shape ==\", D.shape)"
      ],
      "execution_count": 62,
      "outputs": [
        {
          "output_type": "stream",
          "text": [
            "C.shape == (5,) , D.shape == (5,)\n"
          ],
          "name": "stdout"
        }
      ]
    },
    {
      "metadata": {
        "id": "b_TyvqAyj6dV",
        "colab_type": "code",
        "outputId": "d416a6e6-5e39-4a37-c3a5-b70ed813968b",
        "colab": {
          "base_uri": "https://localhost:8080/",
          "height": 35
        }
      },
      "cell_type": "code",
      "source": [
        "print(\"E.shape ==\", E.shape, \", F.shape ==\", F.shape)"
      ],
      "execution_count": 63,
      "outputs": [
        {
          "output_type": "stream",
          "text": [
            "E.shape == (1, 5) , F.shape == (5, 1)\n"
          ],
          "name": "stdout"
        }
      ]
    },
    {
      "metadata": {
        "id": "_cnxUFlWkKC3",
        "colab_type": "code",
        "outputId": "976ff07f-b835-4e7f-859c-f2b054f4a22a",
        "colab": {
          "base_uri": "https://localhost:8080/",
          "height": 109
        }
      },
      "cell_type": "code",
      "source": [
        "print(F)"
      ],
      "execution_count": 64,
      "outputs": [
        {
          "output_type": "stream",
          "text": [
            "[[1]\n",
            " [2]\n",
            " [3]\n",
            " [4]\n",
            " [5]]\n"
          ],
          "name": "stdout"
        }
      ]
    },
    {
      "metadata": {
        "id": "gV0AamUHC300",
        "colab_type": "text"
      },
      "cell_type": "markdown",
      "source": [
        "\n",
        "\n",
        "---\n",
        "\n"
      ]
    },
    {
      "metadata": {
        "id": "YfcobG_kC7eU",
        "colab_type": "text"
      },
      "cell_type": "markdown",
      "source": [
        "###  라이브러리 - numpy 행렬 indexing / slicing"
      ]
    },
    {
      "metadata": {
        "id": "9hiEcc9gC7aC",
        "colab_type": "text"
      },
      "cell_type": "markdown",
      "source": [
        "#### 행렬 원소 접근 (I)"
      ]
    },
    {
      "metadata": {
        "id": "T3FTTC1wC7Q9",
        "colab_type": "text"
      },
      "cell_type": "markdown",
      "source": [
        "\n",
        "\n",
        "*   행렬 원소를 명시적(explicit)으로 접근하기 위해서는 **리스트(list)**에서처럼, **인덱싱 / 슬라이싱 모두 사용가능 함.**"
      ]
    },
    {
      "metadata": {
        "id": "jValHkYfDP_F",
        "colab_type": "text"
      },
      "cell_type": "markdown",
      "source": [
        "1. [예제 1] A[0, 0] 또는 A[0][0]은 1행 1열,  A[2, 1] 또는 A[2][1]은 3행 2열임.\n",
        "2. [예제 2] A[ : , 0]은 모든 행 1열을 나타냄\n",
        "3. [예제 3] A[0:-1, 1:2] 인덱스 0인 1행부터, 인덱스 -1-1=-2인 2행까지의 모든 데이터, 그리고 인덱스 1인 2열부터 인덱스 2-1=1인 2열까지의 모든 데이터\n",
        "4. [예제 4] A[ :, : ]은 모든 행, 모든 열\n",
        "\n"
      ]
    },
    {
      "metadata": {
        "id": "kW86e1RKXfoC",
        "colab_type": "text"
      },
      "cell_type": "markdown",
      "source": [
        "##### 참조 : [머신러닝 강의 02] 파이썬 데이터 타입"
      ]
    },
    {
      "metadata": {
        "id": "-DJy1xm0W_Hc",
        "colab_type": "code",
        "outputId": "de8c23a3-f713-4d10-9340-7e90745d69a5",
        "colab": {
          "base_uri": "https://localhost:8080/",
          "height": 318
        }
      },
      "cell_type": "code",
      "source": [
        "from IPython.lib.display import YouTubeVideo\n",
        "YouTubeVideo('etM5NLvp_do')"
      ],
      "execution_count": 65,
      "outputs": [
        {
          "output_type": "execute_result",
          "data": {
            "text/html": [
              "\n",
              "        <iframe\n",
              "            width=\"400\"\n",
              "            height=\"300\"\n",
              "            src=\"https://www.youtube.com/embed/etM5NLvp_do\"\n",
              "            frameborder=\"0\"\n",
              "            allowfullscreen\n",
              "        ></iframe>\n",
              "        "
            ],
            "text/plain": [
              "<IPython.lib.display.YouTubeVideo at 0x7fa7c2024400>"
            ],
            "image/jpeg": "[encoded data removed]"
          },
          "metadata": {
            "tags": []
          },
          "execution_count": 65
        }
      ]
    },
    {
      "metadata": {
        "id": "aPXuZkhtXZie",
        "colab_type": "text"
      },
      "cell_type": "markdown",
      "source": [
        "[2018 파이썬 노트] https://github.com/hellokena/py-02/blob/master/Summary_datatypes.ipynb"
      ]
    },
    {
      "metadata": {
        "id": "UF1zu-YEClwY",
        "colab_type": "code",
        "colab": {}
      },
      "cell_type": "code",
      "source": [
        "import numpy as np"
      ],
      "execution_count": 0,
      "outputs": []
    },
    {
      "metadata": {
        "id": "pIk0LE79Eebt",
        "colab_type": "code",
        "colab": {}
      },
      "cell_type": "code",
      "source": [
        "A = np.array([10, 20, 30, 40, 50, 60]).reshape(3, 2)"
      ],
      "execution_count": 0,
      "outputs": []
    },
    {
      "metadata": {
        "id": "aYFE1Va9kSMi",
        "colab_type": "code",
        "outputId": "94cd9c31-1183-4979-fbc9-912acf88c5c1",
        "colab": {
          "base_uri": "https://localhost:8080/",
          "height": 35
        }
      },
      "cell_type": "code",
      "source": [
        "print(\"A.shape ==\", A.shape)"
      ],
      "execution_count": 68,
      "outputs": [
        {
          "output_type": "stream",
          "text": [
            "A.shape == (3, 2)\n"
          ],
          "name": "stdout"
        }
      ]
    },
    {
      "metadata": {
        "id": "PfJz_000kT_B",
        "colab_type": "code",
        "outputId": "efb43a3a-cb66-4904-87a2-0ab4785735da",
        "colab": {
          "base_uri": "https://localhost:8080/",
          "height": 72
        }
      },
      "cell_type": "code",
      "source": [
        "print(A)"
      ],
      "execution_count": 69,
      "outputs": [
        {
          "output_type": "stream",
          "text": [
            "[[10 20]\n",
            " [30 40]\n",
            " [50 60]]\n"
          ],
          "name": "stdout"
        }
      ]
    },
    {
      "metadata": {
        "id": "adwCz5ilEeS1",
        "colab_type": "code",
        "outputId": "2a737fd8-deb9-46db-f8cf-9360216aede5",
        "colab": {
          "base_uri": "https://localhost:8080/",
          "height": 35
        }
      },
      "cell_type": "code",
      "source": [
        "# A[0, 0] : 인덱스가 0인 1행과 인덱스가 0인 1열을 공통으로 가지는 데이터 10을 출력\n",
        "print(\"A[0, 0] ==\", A[0, 0], \", A[0][0] ==\", A[0][0])"
      ],
      "execution_count": 70,
      "outputs": [
        {
          "output_type": "stream",
          "text": [
            "A[0, 0] == 10 , A[0][0] == 10\n"
          ],
          "name": "stdout"
        }
      ]
    },
    {
      "metadata": {
        "id": "sC5T4j5vDE6J",
        "colab_type": "code",
        "colab": {
          "base_uri": "https://localhost:8080/",
          "height": 35
        },
        "outputId": "a9e6232d-c9ba-4b7a-c226-c6b55939affe"
      },
      "cell_type": "code",
      "source": [
        "A[0, 0]"
      ],
      "execution_count": 72,
      "outputs": [
        {
          "output_type": "execute_result",
          "data": {
            "text/plain": [
              "10"
            ]
          },
          "metadata": {
            "tags": []
          },
          "execution_count": 72
        }
      ]
    },
    {
      "metadata": {
        "id": "FcIrJJwxkX5M",
        "colab_type": "code",
        "outputId": "ef338e0c-9735-4eac-bf6b-f5969855f7ca",
        "colab": {
          "base_uri": "https://localhost:8080/",
          "height": 35
        }
      },
      "cell_type": "code",
      "source": [
        "# A[2, 1] : 인덱스 2를 가지는 3행, 인덱스 1을 가지는 2열이 교차하는 값 60을 출력\n",
        "print(\"A[2, 1] ==\", A[2, 1], \", A[2][1] ==\", A[2][1])"
      ],
      "execution_count": 73,
      "outputs": [
        {
          "output_type": "stream",
          "text": [
            "A[2, 1] == 60 , A[2][1] == 60\n"
          ],
          "name": "stdout"
        }
      ]
    },
    {
      "metadata": {
        "id": "ynR-vKGyLGd2",
        "colab_type": "code",
        "outputId": "9b12a0e7-f52a-47b0-94da-cff35be21ed7",
        "colab": {
          "base_uri": "https://localhost:8080/",
          "height": 54
        }
      },
      "cell_type": "code",
      "source": [
        "# 슬라이싱(slicing) 사용\n",
        "print(\"A[0:-1, 1:2] ==\", A[0:-1, 1:2])\n",
        "\n",
        "# 1-2행 중, 2열에서 공통되는 값 20,40 출력"
      ],
      "execution_count": 74,
      "outputs": [
        {
          "output_type": "stream",
          "text": [
            "A[0:-1, 1:2] == [[20]\n",
            " [40]]\n"
          ],
          "name": "stdout"
        }
      ]
    },
    {
      "metadata": {
        "id": "Hc3gLYx4MUFL",
        "colab_type": "code",
        "outputId": "976898fb-4808-4d6d-9139-489e83741496",
        "colab": {
          "base_uri": "https://localhost:8080/",
          "height": 35
        }
      },
      "cell_type": "code",
      "source": [
        "print(\"A[ :, 0] ==\", A[ :, 0]) # 모든 행의 데이터 가운데 첫번째 열의 데이터를 가져옴"
      ],
      "execution_count": 77,
      "outputs": [
        {
          "output_type": "stream",
          "text": [
            "A[ :, 0] == [10 30 50]\n"
          ],
          "name": "stdout"
        }
      ]
    },
    {
      "metadata": {
        "id": "D5W-P3JpkoND",
        "colab_type": "code",
        "outputId": "81cc63d7-276b-4079-cfe7-c7b84b4545a0",
        "colab": {
          "base_uri": "https://localhost:8080/",
          "height": 72
        }
      },
      "cell_type": "code",
      "source": [
        "print(\"A[ :, :] ==\", A[ :, :]) # 모든 행과 모든 열의 데이터를 가져옴\n",
        "                               # 행렬 그 자체 A를 의미함"
      ],
      "execution_count": 76,
      "outputs": [
        {
          "output_type": "stream",
          "text": [
            "A[ :, :] == [[10 20]\n",
            " [30 40]\n",
            " [50 60]]\n"
          ],
          "name": "stdout"
        }
      ]
    },
    {
      "metadata": {
        "id": "YLj94U4DJWZd",
        "colab_type": "text"
      },
      "cell_type": "markdown",
      "source": [
        "\n",
        "\n",
        "---\n",
        "\n"
      ]
    },
    {
      "metadata": {
        "id": "tqCe9JicMteb",
        "colab_type": "text"
      },
      "cell_type": "markdown",
      "source": [
        "### 라이브러리 - numpy 행렬 iterator"
      ]
    },
    {
      "metadata": {
        "id": "yfucRzoGMwoQ",
        "colab_type": "text"
      },
      "cell_type": "markdown",
      "source": [
        "#### 행렬 원소 접근 (II)"
      ]
    },
    {
      "metadata": {
        "id": "IRZwt0SAM689",
        "colab_type": "text"
      },
      "cell_type": "markdown",
      "source": [
        "\n",
        "\n",
        "*   명시적(explicit) 인덱싱 / 슬라이싱 이외에, **행렬 모든 원소를 access 하는 경우에는 iterator 사용가능**\n",
        "\n",
        "* (tutorial: https://docs.scipy.org/doc/numpy/referenece/generated/numpy.nditer.html)\n",
        "\n",
        "\n",
        "\n",
        "\n",
        "\n",
        "*   numpy iterator은 C++, Java iterator 처럼 next() 메서드를 통해 데이터 값을 처음부터 끝까지 순차적으로 읽어 들이는 방법을 제공\n",
        "\n",
        "\n",
        "\n"
      ]
    },
    {
      "metadata": {
        "id": "ouSxWrpVJXAL",
        "colab_type": "code",
        "colab": {}
      },
      "cell_type": "code",
      "source": [
        "# [참고] Java iterator interface\n",
        "# public interface Iterator {\n",
        "#     boolean hasNext();\n",
        "#     Object  next();\n",
        "#     void    remove();\n",
        "# }"
      ],
      "execution_count": 0,
      "outputs": []
    },
    {
      "metadata": {
        "id": "Wq65EhDwO8q2",
        "colab_type": "text"
      },
      "cell_type": "markdown",
      "source": [
        "*   2X4 행렬인 경우, (0,0) => (0,1) => (0,2) => (0,3) => (1,0) => (1,1) => (1,2) => (1,3) 순서로 access\n",
        "\n",
        "\n"
      ]
    },
    {
      "metadata": {
        "id": "BBObL8lhgXpS",
        "colab_type": "text"
      },
      "cell_type": "markdown",
      "source": [
        "\n",
        "\n",
        "\n",
        "*    iterator는 순서적으로 다음 순서를 가르키도록 자동적으로 증가하지 않기 때문에 일반적으로 while문과 같이 사용\n",
        "\n",
        "*    iterator는 행단위로 데이터를 접근\n",
        "\n",
        "\n",
        "\n"
      ]
    },
    {
      "metadata": {
        "id": "TDmI89uWOTtT",
        "colab_type": "code",
        "colab": {}
      },
      "cell_type": "code",
      "source": [
        "import numpy as np"
      ],
      "execution_count": 0,
      "outputs": []
    },
    {
      "metadata": {
        "id": "oOpT4AKGkuaM",
        "colab_type": "code",
        "colab": {}
      },
      "cell_type": "code",
      "source": [
        "A = np.array([ [10, 20, 30, 40], [50, 60, 70, 80] ]) # 2X4 행렬"
      ],
      "execution_count": 0,
      "outputs": []
    },
    {
      "metadata": {
        "id": "tlmi70VVkuXu",
        "colab_type": "code",
        "outputId": "91f0ab64-4136-4e02-9924-d0fc5b49a4ba",
        "colab": {
          "base_uri": "https://localhost:8080/",
          "height": 72
        }
      },
      "cell_type": "code",
      "source": [
        "print(A, \"\\n\")"
      ],
      "execution_count": 81,
      "outputs": [
        {
          "output_type": "stream",
          "text": [
            "[[10 20 30 40]\n",
            " [50 60 70 80]] \n",
            "\n"
          ],
          "name": "stdout"
        }
      ]
    },
    {
      "metadata": {
        "id": "99nQtlWxEuz_",
        "colab_type": "code",
        "colab": {
          "base_uri": "https://localhost:8080/",
          "height": 54
        },
        "outputId": "855baa4d-2e67-4268-f26a-2a9de32e097a"
      },
      "cell_type": "code",
      "source": [
        "print(A)"
      ],
      "execution_count": 82,
      "outputs": [
        {
          "output_type": "stream",
          "text": [
            "[[10 20 30 40]\n",
            " [50 60 70 80]]\n"
          ],
          "name": "stdout"
        }
      ]
    },
    {
      "metadata": {
        "id": "Lzu1b88mE4T3",
        "colab_type": "code",
        "colab": {
          "base_uri": "https://localhost:8080/",
          "height": 54
        },
        "outputId": "46755b1a-4260-4c37-a6fd-3b80d91700af"
      },
      "cell_type": "code",
      "source": [
        "A"
      ],
      "execution_count": 85,
      "outputs": [
        {
          "output_type": "execute_result",
          "data": {
            "text/plain": [
              "array([[10, 20, 30, 40],\n",
              "       [50, 60, 70, 80]])"
            ]
          },
          "metadata": {
            "tags": []
          },
          "execution_count": 85
        }
      ]
    },
    {
      "metadata": {
        "id": "tGC0woFfkuVm",
        "colab_type": "code",
        "outputId": "9e7a6ade-b00d-444f-b7bb-7bcdef303ca0",
        "colab": {
          "base_uri": "https://localhost:8080/",
          "height": 54
        }
      },
      "cell_type": "code",
      "source": [
        "print(\"A.shape ==\", A.shape, \"\\n\")"
      ],
      "execution_count": 83,
      "outputs": [
        {
          "output_type": "stream",
          "text": [
            "A.shape == (2, 4) \n",
            "\n"
          ],
          "name": "stdout"
        }
      ]
    },
    {
      "metadata": {
        "id": "j7i0k97BE1AH",
        "colab_type": "code",
        "colab": {
          "base_uri": "https://localhost:8080/",
          "height": 35
        },
        "outputId": "d4e45a66-851e-4da2-979f-c776f3500c0e"
      },
      "cell_type": "code",
      "source": [
        "A.shape"
      ],
      "execution_count": 84,
      "outputs": [
        {
          "output_type": "execute_result",
          "data": {
            "text/plain": [
              "(2, 4)"
            ]
          },
          "metadata": {
            "tags": []
          },
          "execution_count": 84
        }
      ]
    },
    {
      "metadata": {
        "id": "9R_MLiM-E6gG",
        "colab_type": "code",
        "colab": {
          "base_uri": "https://localhost:8080/",
          "height": 35
        },
        "outputId": "feb1bde1-d87f-470a-944f-61a7419175dd"
      },
      "cell_type": "code",
      "source": [
        "print(A.shape)"
      ],
      "execution_count": 86,
      "outputs": [
        {
          "output_type": "stream",
          "text": [
            "(2, 4)\n"
          ],
          "name": "stdout"
        }
      ]
    },
    {
      "metadata": {
        "id": "STYTO76FkuTh",
        "colab_type": "code",
        "outputId": "8853cecb-6d7a-4061-ddf2-6dee49106678",
        "colab": {
          "base_uri": "https://localhost:8080/",
          "height": 164
        }
      },
      "cell_type": "code",
      "source": [
        "# 행렬 A의 iterator 생성\n",
        "\n",
        "it = np.nditer(A, flags=['multi_index'], op_flags=['readwrite'])\n",
        "\n",
        "while not it.finished: # iterator는 순서적으로 다음 순서를 가르키도록 자동적으로 증가하지 않기 때문에 일반적으로 while문과 같이 사용\n",
        "  \n",
        "  idx = it.multi_index\n",
        "  \n",
        "  print(\"current value => \", A[idx])\n",
        "  \n",
        "  it.iternext()\n",
        "  \n",
        "  # iterator는 행단위로 데이터를 접근, 처음부터 마지막까지 원소를 가져올 수 있다"
      ],
      "execution_count": 87,
      "outputs": [
        {
          "output_type": "stream",
          "text": [
            "current value =>  10\n",
            "current value =>  20\n",
            "current value =>  30\n",
            "current value =>  40\n",
            "current value =>  50\n",
            "current value =>  60\n",
            "current value =>  70\n",
            "current value =>  80\n"
          ],
          "name": "stdout"
        }
      ]
    },
    {
      "metadata": {
        "id": "FQk7nHCvFJt7",
        "colab_type": "code",
        "colab": {}
      },
      "cell_type": "code",
      "source": [
        ""
      ],
      "execution_count": 0,
      "outputs": []
    }
  ]
}