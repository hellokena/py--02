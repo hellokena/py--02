{
  "nbformat": 4,
  "nbformat_minor": 0,
  "metadata": {
    "colab": {
      "name": "wk02_variables.ipynb",
      "version": "0.3.2",
      "provenance": [],
      "collapsed_sections": [],
      "include_colab_link": true
    },
    "kernelspec": {
      "name": "python3",
      "display_name": "Python 3"
    }
  },
  "cells": [
    {
      "cell_type": "markdown",
      "metadata": {
        "id": "view-in-github",
        "colab_type": "text"
      },
      "source": [
        "[View in Colaboratory](https://colab.research.google.com/github/hellokena/py--02/blob/master/wk02_variables.ipynb)"
      ]
    },
    {
      "metadata": {
        "id": "2PBfjgYl7zb7",
        "colab_type": "toc"
      },
      "cell_type": "markdown",
      "source": [
        ">>[변수 (variables)](#scrollTo=l58ZYAgJqZg9)\n",
        "\n",
        ">>>[기본 연산](#scrollTo=LW-4WXxuJQH4)\n",
        "\n",
        ">>>[동적 변수 (dynamic typing)](#scrollTo=NEHnu3xcJdQB)\n",
        "\n",
        ">>>[문자열](#scrollTo=vET9no_0Jjgp)\n",
        "\n",
        ">>>[여러행 문자열(\"\"\" ~~ \"\"\")](#scrollTo=HuWvHrF1JnNa)\n",
        "\n",
        ">>>[여러 행 수식](#scrollTo=-uKYFHgp0OlD)\n",
        "\n",
        ">>>[숫자와 문자열 처리](#scrollTo=OlCmJsPQJ-UF)\n",
        "\n",
        ">>>[변수 type](#scrollTo=wAqI-fBRKAxE)\n",
        "\n",
        ">>>[문자열을 숫자로 변환 : int(), float()](#scrollTo=_9dlPUlNKEzI)\n",
        "\n",
        ">>[예약어(keywords)](#scrollTo=ylC-ft7p0h2s)\n",
        "\n",
        ">>[예약에는 변수 이름으로 사용할 수 없다 (오류가 발생함)](#scrollTo=t9WWm13R1WMj)\n",
        "\n",
        ">>[대신에 앞에 _ 붙이는 것도 한 방법!](#scrollTo=t9WWm13R1WMj)\n",
        "\n",
        ">>[User input](#scrollTo=vc0IkNMj1h53)\n",
        "\n",
        ">>[Code block(:) & Indentation(TAB : 들여쓰기)](#scrollTo=AuAECOIJ1y6s)\n",
        "\n",
        ">>>[도전 코딩1. BMI = M/H**2(),M(kg),H(m))](#scrollTo=5q9mYG9k3XWw)\n",
        "\n",
        ">>>[도전 코딩2. Fat burning](#scrollTo=MMjY73c-40-q)\n",
        "\n"
      ]
    },
    {
      "metadata": {
        "id": "l58ZYAgJqZg9",
        "colab_type": "text"
      },
      "cell_type": "markdown",
      "source": [
        "## 변수 (variables)"
      ]
    },
    {
      "metadata": {
        "id": "LW-4WXxuJQH4",
        "colab_type": "text"
      },
      "cell_type": "markdown",
      "source": [
        "###기본 연산"
      ]
    },
    {
      "metadata": {
        "id": "QeCXSnqHp6p2",
        "colab_type": "code",
        "colab": {
          "base_uri": "https://localhost:8080/",
          "height": 35
        },
        "outputId": "e2014c1c-3e42-48ff-efb4-521c414c0135"
      },
      "cell_type": "code",
      "source": [
        "5-5+1+9"
      ],
      "execution_count": 0,
      "outputs": [
        {
          "output_type": "execute_result",
          "data": {
            "text/plain": [
              "10"
            ]
          },
          "metadata": {
            "tags": []
          },
          "execution_count": 1
        }
      ]
    },
    {
      "metadata": {
        "id": "R1GumNgfqxSf",
        "colab_type": "code",
        "colab": {
          "base_uri": "https://localhost:8080/",
          "height": 35
        },
        "outputId": "be8b952d-0c44-43a5-d6e1-d3fede0bfeea"
      },
      "cell_type": "code",
      "source": [
        "5/5/3 + 9"
      ],
      "execution_count": 0,
      "outputs": [
        {
          "output_type": "execute_result",
          "data": {
            "text/plain": [
              "9.333333333333334"
            ]
          },
          "metadata": {
            "tags": []
          },
          "execution_count": 2
        }
      ]
    },
    {
      "metadata": {
        "id": "PnNC_yGmrCLZ",
        "colab_type": "code",
        "colab": {
          "base_uri": "https://localhost:8080/",
          "height": 35
        },
        "outputId": "2d8b6eb0-ec9e-47d0-b6d4-41a8881da133"
      },
      "cell_type": "code",
      "source": [
        "5/(5/3) + 9"
      ],
      "execution_count": 0,
      "outputs": [
        {
          "output_type": "execute_result",
          "data": {
            "text/plain": [
              "12.0"
            ]
          },
          "metadata": {
            "tags": []
          },
          "execution_count": 4
        }
      ]
    },
    {
      "metadata": {
        "id": "xctP4uuOrOWH",
        "colab_type": "code",
        "colab": {
          "base_uri": "https://localhost:8080/",
          "height": 35
        },
        "outputId": "693bd13d-1ec0-4962-f3fe-650c09c2c8db"
      },
      "cell_type": "code",
      "source": [
        "5/5*1+9"
      ],
      "execution_count": 0,
      "outputs": [
        {
          "output_type": "execute_result",
          "data": {
            "text/plain": [
              "10.0"
            ]
          },
          "metadata": {
            "tags": []
          },
          "execution_count": 5
        }
      ]
    },
    {
      "metadata": {
        "id": "4yWCdIBorb1o",
        "colab_type": "code",
        "colab": {
          "base_uri": "https://localhost:8080/",
          "height": 35
        },
        "outputId": "0a6d4871-da58-491c-e005-afd6ab30606b"
      },
      "cell_type": "code",
      "source": [
        "5/5*(1+9)"
      ],
      "execution_count": 0,
      "outputs": [
        {
          "output_type": "execute_result",
          "data": {
            "text/plain": [
              "10.0"
            ]
          },
          "metadata": {
            "tags": []
          },
          "execution_count": 6
        }
      ]
    },
    {
      "metadata": {
        "id": "NEHnu3xcJdQB",
        "colab_type": "text"
      },
      "cell_type": "markdown",
      "source": [
        "###동적 변수 (dynamic typing)"
      ]
    },
    {
      "metadata": {
        "id": "fGe4no--rj6P",
        "colab_type": "code",
        "colab": {}
      },
      "cell_type": "code",
      "source": [
        "some_var=100"
      ],
      "execution_count": 0,
      "outputs": []
    },
    {
      "metadata": {
        "id": "Yv8DKVrisW9L",
        "colab_type": "code",
        "colab": {}
      },
      "cell_type": "code",
      "source": [
        "some_var=\"강남스타일\""
      ],
      "execution_count": 0,
      "outputs": []
    },
    {
      "metadata": {
        "id": "FxxybnqesbpZ",
        "colab_type": "code",
        "colab": {
          "base_uri": "https://localhost:8080/",
          "height": 35
        },
        "outputId": "56753c8c-caeb-4ffe-9f57-ec280983fa3c"
      },
      "cell_type": "code",
      "source": [
        "some_var"
      ],
      "execution_count": 0,
      "outputs": [
        {
          "output_type": "execute_result",
          "data": {
            "text/plain": [
              "'강남스타일'"
            ]
          },
          "metadata": {
            "tags": []
          },
          "execution_count": 3
        }
      ]
    },
    {
      "metadata": {
        "id": "vET9no_0Jjgp",
        "colab_type": "text"
      },
      "cell_type": "markdown",
      "source": [
        "###문자열"
      ]
    },
    {
      "metadata": {
        "id": "Gm7KR-qfsf69",
        "colab_type": "code",
        "colab": {}
      },
      "cell_type": "code",
      "source": [
        "psy = \" 오빤 강남스타일 \""
      ],
      "execution_count": 0,
      "outputs": []
    },
    {
      "metadata": {
        "id": "mOxTy4EZs1cp",
        "colab_type": "code",
        "colab": {}
      },
      "cell_type": "code",
      "source": [
        "psy = psy+\"오, 강남스타일\""
      ],
      "execution_count": 0,
      "outputs": []
    },
    {
      "metadata": {
        "id": "7Xs8FE-QtAVu",
        "colab_type": "code",
        "colab": {
          "base_uri": "https://localhost:8080/",
          "height": 35
        },
        "outputId": "c77b3dc6-b409-4c96-d26d-25a47b53e530"
      },
      "cell_type": "code",
      "source": [
        "psy"
      ],
      "execution_count": 0,
      "outputs": [
        {
          "output_type": "execute_result",
          "data": {
            "text/plain": [
              "' 오빤 강남스타일 오, 강남스타일'"
            ]
          },
          "metadata": {
            "tags": []
          },
          "execution_count": 13
        }
      ]
    },
    {
      "metadata": {
        "id": "s-ioZ1IFtBQH",
        "colab_type": "code",
        "colab": {}
      },
      "cell_type": "code",
      "source": [
        "psy2 = \"아름다워 사랑스러워 \""
      ],
      "execution_count": 0,
      "outputs": []
    },
    {
      "metadata": {
        "id": "9eMoRQVdtGql",
        "colab_type": "code",
        "colab": {}
      },
      "cell_type": "code",
      "source": [
        "psy2 += \" 너 그래 너, 그래 바로 너\""
      ],
      "execution_count": 0,
      "outputs": []
    },
    {
      "metadata": {
        "id": "VvwB1oL1tZRd",
        "colab_type": "code",
        "colab": {
          "base_uri": "https://localhost:8080/",
          "height": 35
        },
        "outputId": "71a08fe9-62c5-4cb1-8e3f-cefd22ef4b82"
      },
      "cell_type": "code",
      "source": [
        "psy2"
      ],
      "execution_count": 0,
      "outputs": [
        {
          "output_type": "execute_result",
          "data": {
            "text/plain": [
              "'아름다워 사랑스러워  너 그래 너, 그래 바로 너'"
            ]
          },
          "metadata": {
            "tags": []
          },
          "execution_count": 16
        }
      ]
    },
    {
      "metadata": {
        "id": "HuWvHrF1JnNa",
        "colab_type": "text"
      },
      "cell_type": "markdown",
      "source": [
        "###여러행 문자열(\"\"\" ~~ \"\"\")"
      ]
    },
    {
      "metadata": {
        "id": "nVDOcw9rtaVY",
        "colab_type": "code",
        "colab": {
          "base_uri": "https://localhost:8080/",
          "height": 35
        },
        "outputId": "5cd90d65-8152-4c1d-b7f3-ce2b68e45fd0"
      },
      "cell_type": "code",
      "source": [
        "psy = \"\"\" 낮에는 따사로운 인간적인 여자 \n",
        "커피 한잔의 여유를 아는 품격있는 여자 \n",
        "밤이 오면 심장이 뜨거워지는 여자 그런 반전 있는 여자 \"\"\"\n",
        "psy"
      ],
      "execution_count": 0,
      "outputs": [
        {
          "output_type": "execute_result",
          "data": {
            "text/plain": [
              "' 낮에는 따사로운 인간적인 여자 \\n커피 한잔의 여유를 아는 품격있는 여자 \\n밤이 오면 심장이 뜨거워지는 여자 그런 반전 있는 여자 '"
            ]
          },
          "metadata": {
            "tags": []
          },
          "execution_count": 19
        }
      ]
    },
    {
      "metadata": {
        "id": "TNX1IYC8tvt5",
        "colab_type": "code",
        "colab": {
          "base_uri": "https://localhost:8080/",
          "height": 71
        },
        "outputId": "20cc8725-69ce-4ce3-9914-f8a6e0c1955b"
      },
      "cell_type": "code",
      "source": [
        "print(psy)"
      ],
      "execution_count": 0,
      "outputs": [
        {
          "output_type": "stream",
          "text": [
            " 낮에는 따사로운 인간적인 여자 \n",
            "커피 한잔의 여유를 아는 품격있는 여자 \n",
            "밤이 오면 심장이 뜨거워지는 여자 그런 반전 있는 여자 \n"
          ],
          "name": "stdout"
        }
      ]
    },
    {
      "metadata": {
        "id": "-uKYFHgp0OlD",
        "colab_type": "text"
      },
      "cell_type": "markdown",
      "source": [
        "### 여러 행 수식"
      ]
    },
    {
      "metadata": {
        "id": "2Aes2b7Ut5gb",
        "colab_type": "code",
        "colab": {
          "base_uri": "https://localhost:8080/",
          "height": 35
        },
        "outputId": "43a8c94f-e5ba-46a8-9367-266c39170629"
      },
      "cell_type": "code",
      "source": [
        "sum = 10 +20 + \\\n",
        "30 + 40\n",
        "sum"
      ],
      "execution_count": 0,
      "outputs": [
        {
          "output_type": "execute_result",
          "data": {
            "text/plain": [
              "100"
            ]
          },
          "metadata": {
            "tags": []
          },
          "execution_count": 21
        }
      ]
    },
    {
      "metadata": {
        "id": "OlCmJsPQJ-UF",
        "colab_type": "text"
      },
      "cell_type": "markdown",
      "source": [
        "###숫자와 문자열 처리"
      ]
    },
    {
      "metadata": {
        "id": "i0QbANGBuK84",
        "colab_type": "code",
        "colab": {
          "base_uri": "https://localhost:8080/",
          "height": 211
        },
        "outputId": "0f68a329-e09c-4288-ed03-31fae0e74193"
      },
      "cell_type": "code",
      "source": [
        "day=3\n",
        "date = day + \" 일\"\n",
        "print(date) #오류구문"
      ],
      "execution_count": 0,
      "outputs": [
        {
          "output_type": "error",
          "ename": "TypeError",
          "evalue": "ignored",
          "traceback": [
            "\u001b[0;31m---------------------------------------------------------------------------\u001b[0m",
            "\u001b[0;31mTypeError\u001b[0m                                 Traceback (most recent call last)",
            "\u001b[0;32m<ipython-input-1-25fb11ab53f8>\u001b[0m in \u001b[0;36m<module>\u001b[0;34m()\u001b[0m\n\u001b[1;32m      1\u001b[0m \u001b[0mday\u001b[0m\u001b[0;34m=\u001b[0m\u001b[0;36m3\u001b[0m\u001b[0;34m\u001b[0m\u001b[0m\n\u001b[0;32m----> 2\u001b[0;31m \u001b[0mdate\u001b[0m \u001b[0;34m=\u001b[0m \u001b[0mday\u001b[0m \u001b[0;34m+\u001b[0m \u001b[0;34m\" 일\"\u001b[0m\u001b[0;34m\u001b[0m\u001b[0m\n\u001b[0m\u001b[1;32m      3\u001b[0m \u001b[0mprint\u001b[0m\u001b[0;34m(\u001b[0m\u001b[0mdate\u001b[0m\u001b[0;34m)\u001b[0m \u001b[0;31m#오류구문\u001b[0m\u001b[0;34m\u001b[0m\u001b[0m\n",
            "\u001b[0;31mTypeError\u001b[0m: unsupported operand type(s) for +: 'int' and 'str'"
          ]
        }
      ]
    },
    {
      "metadata": {
        "id": "t6llqgKQuaDC",
        "colab_type": "code",
        "colab": {
          "base_uri": "https://localhost:8080/",
          "height": 35
        },
        "outputId": "6d367385-94e4-4273-cf91-5d11219ccfb3"
      },
      "cell_type": "code",
      "source": [
        "date = str(day) + \" 일\"\n",
        "print(date)"
      ],
      "execution_count": 0,
      "outputs": [
        {
          "output_type": "stream",
          "text": [
            "3 일\n"
          ],
          "name": "stdout"
        }
      ]
    },
    {
      "metadata": {
        "id": "6UbnKyXouzHu",
        "colab_type": "code",
        "colab": {
          "base_uri": "https://localhost:8080/",
          "height": 35
        },
        "outputId": "cbd2dd34-c953-461c-cd76-b8a2efcdacbb"
      },
      "cell_type": "code",
      "source": [
        "day=3\n",
        "str_day=str(day)\n",
        "date = str_day + \" 일\"\n",
        "print(date)"
      ],
      "execution_count": 0,
      "outputs": [
        {
          "output_type": "stream",
          "text": [
            "3 일\n"
          ],
          "name": "stdout"
        }
      ]
    },
    {
      "metadata": {
        "id": "wAqI-fBRKAxE",
        "colab_type": "text"
      },
      "cell_type": "markdown",
      "source": [
        "###변수 type"
      ]
    },
    {
      "metadata": {
        "id": "PwU-tWnPvJxM",
        "colab_type": "code",
        "colab": {
          "base_uri": "https://localhost:8080/",
          "height": 35
        },
        "outputId": "778e6bf8-be9a-49c8-b8a1-fff456dc5317"
      },
      "cell_type": "code",
      "source": [
        "type(day)"
      ],
      "execution_count": 0,
      "outputs": [
        {
          "output_type": "execute_result",
          "data": {
            "text/plain": [
              "int"
            ]
          },
          "metadata": {
            "tags": []
          },
          "execution_count": 26
        }
      ]
    },
    {
      "metadata": {
        "id": "6cml1EwCvVV0",
        "colab_type": "code",
        "colab": {
          "base_uri": "https://localhost:8080/",
          "height": 35
        },
        "outputId": "f92c020d-a37e-4ffc-9bd5-0720074d4b13"
      },
      "cell_type": "code",
      "source": [
        "type(day), type(str_day), type(date)"
      ],
      "execution_count": 0,
      "outputs": [
        {
          "output_type": "execute_result",
          "data": {
            "text/plain": [
              "(int, str, str)"
            ]
          },
          "metadata": {
            "tags": []
          },
          "execution_count": 27
        }
      ]
    },
    {
      "metadata": {
        "id": "gEUAT8lfviPU",
        "colab_type": "code",
        "colab": {
          "base_uri": "https://localhost:8080/",
          "height": 1421
        },
        "outputId": "00c379c7-f99e-4bd1-a5ab-6aa5cf02c402"
      },
      "cell_type": "code",
      "source": [
        "dir()"
      ],
      "execution_count": 0,
      "outputs": [
        {
          "output_type": "execute_result",
          "data": {
            "text/plain": [
              "['In',\n",
              " 'Out',\n",
              " '_',\n",
              " '_1',\n",
              " '_10',\n",
              " '_13',\n",
              " '_16',\n",
              " '_18',\n",
              " '_19',\n",
              " '_2',\n",
              " '_21',\n",
              " '_26',\n",
              " '_27',\n",
              " '_3',\n",
              " '_4',\n",
              " '_5',\n",
              " '_6',\n",
              " '_TensorFlowImportHook',\n",
              " '__',\n",
              " '___',\n",
              " '__builtin__',\n",
              " '__builtins__',\n",
              " '__doc__',\n",
              " '__loader__',\n",
              " '__name__',\n",
              " '__package__',\n",
              " '__spec__',\n",
              " '_dh',\n",
              " '_i',\n",
              " '_i1',\n",
              " '_i10',\n",
              " '_i11',\n",
              " '_i12',\n",
              " '_i13',\n",
              " '_i14',\n",
              " '_i15',\n",
              " '_i16',\n",
              " '_i17',\n",
              " '_i18',\n",
              " '_i19',\n",
              " '_i2',\n",
              " '_i20',\n",
              " '_i21',\n",
              " '_i22',\n",
              " '_i23',\n",
              " '_i24',\n",
              " '_i25',\n",
              " '_i26',\n",
              " '_i27',\n",
              " '_i28',\n",
              " '_i3',\n",
              " '_i4',\n",
              " '_i5',\n",
              " '_i6',\n",
              " '_i7',\n",
              " '_i8',\n",
              " '_i9',\n",
              " '_ih',\n",
              " '_ii',\n",
              " '_iii',\n",
              " '_oh',\n",
              " '_sh',\n",
              " 'date',\n",
              " 'datetime',\n",
              " 'day',\n",
              " 'exit',\n",
              " 'get_ipython',\n",
              " 'imp',\n",
              " 'logging',\n",
              " 'os',\n",
              " 'psy',\n",
              " 'psy2',\n",
              " 'quit',\n",
              " 'register_hook',\n",
              " 'some_var',\n",
              " 'str_day',\n",
              " 'sum',\n",
              " 'sys']"
            ]
          },
          "metadata": {
            "tags": []
          },
          "execution_count": 28
        }
      ]
    },
    {
      "metadata": {
        "id": "YXa8wcb9zY54",
        "colab_type": "text"
      },
      "cell_type": "markdown",
      "source": [
        "### Python data types\n",
        "\n",
        "- String\n",
        "- Number\n",
        "- Boolean\n",
        "- List\n",
        "- Tuple\n",
        "- Dictionary"
      ]
    },
    {
      "metadata": {
        "id": "_9dlPUlNKEzI",
        "colab_type": "text"
      },
      "cell_type": "markdown",
      "source": [
        "###문자열을 숫자로 변환 : int(), float()"
      ]
    },
    {
      "metadata": {
        "id": "ROs19BjpvbsH",
        "colab_type": "code",
        "colab": {}
      },
      "cell_type": "code",
      "source": [
        "num = int(\"31\")\n",
        "pi = float('3.141592')"
      ],
      "execution_count": 0,
      "outputs": []
    },
    {
      "metadata": {
        "id": "DYkciF4mwn49",
        "colab_type": "code",
        "colab": {
          "base_uri": "https://localhost:8080/",
          "height": 35
        },
        "outputId": "b075f458-d505-418e-ee1b-e2c87d22c1b0"
      },
      "cell_type": "code",
      "source": [
        "num"
      ],
      "execution_count": 0,
      "outputs": [
        {
          "output_type": "execute_result",
          "data": {
            "text/plain": [
              "31"
            ]
          },
          "metadata": {
            "tags": []
          },
          "execution_count": 31
        }
      ]
    },
    {
      "metadata": {
        "id": "Cw81KNwpwwDq",
        "colab_type": "code",
        "colab": {
          "base_uri": "https://localhost:8080/",
          "height": 35
        },
        "outputId": "c89a0340-ea97-4675-946c-2d040807ad65"
      },
      "cell_type": "code",
      "source": [
        "pi,type(pi)"
      ],
      "execution_count": 0,
      "outputs": [
        {
          "output_type": "execute_result",
          "data": {
            "text/plain": [
              "(3.141592, float)"
            ]
          },
          "metadata": {
            "tags": []
          },
          "execution_count": 33
        }
      ]
    },
    {
      "metadata": {
        "id": "GNLemwp6wwlA",
        "colab_type": "code",
        "colab": {
          "base_uri": "https://localhost:8080/",
          "height": 35
        },
        "outputId": "3e33fe0b-74fa-40a0-dae2-64b7e5bc0c74"
      },
      "cell_type": "code",
      "source": [
        "print(\"num = {}, pi = {}\".format(num,pi))"
      ],
      "execution_count": 0,
      "outputs": [
        {
          "output_type": "stream",
          "text": [
            "num = 31, pi = 3.141592\n"
          ],
          "name": "stdout"
        }
      ]
    },
    {
      "metadata": {
        "id": "ylC-ft7p0h2s",
        "colab_type": "text"
      },
      "cell_type": "markdown",
      "source": [
        "##예약어(keywords)"
      ]
    },
    {
      "metadata": {
        "id": "9BGMZ0UbxL8s",
        "colab_type": "code",
        "colab": {
          "base_uri": "https://localhost:8080/",
          "height": 35
        },
        "outputId": "0d2f51ba-deb9-4821-d50b-e95c4c427efd"
      },
      "cell_type": "code",
      "source": [
        "import keyword\n",
        "\n",
        "# 파이썬의 예약어 수\n",
        "\n",
        "len(keyword.kwlist)"
      ],
      "execution_count": 0,
      "outputs": [
        {
          "output_type": "execute_result",
          "data": {
            "text/plain": [
              "33"
            ]
          },
          "metadata": {
            "tags": []
          },
          "execution_count": 36
        }
      ]
    },
    {
      "metadata": {
        "id": "EJNjAHz20rmv",
        "colab_type": "code",
        "colab": {
          "base_uri": "https://localhost:8080/",
          "height": 35
        },
        "outputId": "0d8b7ea9-4d9e-472e-9c35-78cf31a864e6"
      },
      "cell_type": "code",
      "source": [
        "keyword"
      ],
      "execution_count": 0,
      "outputs": [
        {
          "output_type": "execute_result",
          "data": {
            "text/plain": [
              "<module 'keyword' from '/usr/lib/python3.6/keyword.py'>"
            ]
          },
          "metadata": {
            "tags": []
          },
          "execution_count": 37
        }
      ]
    },
    {
      "metadata": {
        "id": "fJ5zS4210y5B",
        "colab_type": "code",
        "colab": {
          "base_uri": "https://localhost:8080/",
          "height": 611
        },
        "outputId": "36c815dc-117b-45a5-ae91-06618b2d59db"
      },
      "cell_type": "code",
      "source": [
        "#예약어 목록\n",
        "keyword.kwlist"
      ],
      "execution_count": 0,
      "outputs": [
        {
          "output_type": "execute_result",
          "data": {
            "text/plain": [
              "['False',\n",
              " 'None',\n",
              " 'True',\n",
              " 'and',\n",
              " 'as',\n",
              " 'assert',\n",
              " 'break',\n",
              " 'class',\n",
              " 'continue',\n",
              " 'def',\n",
              " 'del',\n",
              " 'elif',\n",
              " 'else',\n",
              " 'except',\n",
              " 'finally',\n",
              " 'for',\n",
              " 'from',\n",
              " 'global',\n",
              " 'if',\n",
              " 'import',\n",
              " 'in',\n",
              " 'is',\n",
              " 'lambda',\n",
              " 'nonlocal',\n",
              " 'not',\n",
              " 'or',\n",
              " 'pass',\n",
              " 'raise',\n",
              " 'return',\n",
              " 'try',\n",
              " 'while',\n",
              " 'with',\n",
              " 'yield']"
            ]
          },
          "metadata": {
            "tags": []
          },
          "execution_count": 38
        }
      ]
    },
    {
      "metadata": {
        "id": "TB5LPACB02QZ",
        "colab_type": "code",
        "colab": {
          "base_uri": "https://localhost:8080/",
          "height": 136
        },
        "outputId": "ce5f48d9-91c5-4eee-e5a3-2edced0cb31b"
      },
      "cell_type": "code",
      "source": [
        "as = \"inje\""
      ],
      "execution_count": 0,
      "outputs": [
        {
          "output_type": "error",
          "ename": "SyntaxError",
          "evalue": "ignored",
          "traceback": [
            "\u001b[0;36m  File \u001b[0;32m\"<ipython-input-39-e77f5820d78a>\"\u001b[0;36m, line \u001b[0;32m1\u001b[0m\n\u001b[0;31m    as = \"inje\"\u001b[0m\n\u001b[0m     ^\u001b[0m\n\u001b[0;31mSyntaxError\u001b[0m\u001b[0;31m:\u001b[0m invalid syntax\n"
          ]
        }
      ]
    },
    {
      "metadata": {
        "id": "eGL_UEnE1Oe_",
        "colab_type": "code",
        "colab": {
          "base_uri": "https://localhost:8080/",
          "height": 35
        },
        "outputId": "12687bff-2701-4585-8b1b-95e132005172"
      },
      "cell_type": "code",
      "source": [
        "# 대신에 앞에 '_' 붙이는 것도 한 방법!\n",
        "_as = \"inje\"\n",
        "_as"
      ],
      "execution_count": 0,
      "outputs": [
        {
          "output_type": "execute_result",
          "data": {
            "text/plain": [
              "'inje'"
            ]
          },
          "metadata": {
            "tags": []
          },
          "execution_count": 40
        }
      ]
    },
    {
      "metadata": {
        "id": "t9WWm13R1WMj",
        "colab_type": "text"
      },
      "cell_type": "markdown",
      "source": [
        "## 예약어는 변수 이름으로 사용할 수 없다 (오류가 발생함)"
      ]
    },
    {
      "metadata": {
        "id": "vc0IkNMj1h53",
        "colab_type": "text"
      },
      "cell_type": "markdown",
      "source": [
        "## User input"
      ]
    },
    {
      "metadata": {
        "id": "CfZsvpmb1Rl-",
        "colab_type": "code",
        "colab": {
          "base_uri": "https://localhost:8080/",
          "height": 35
        },
        "outputId": "3efdfdf1-041f-4aea-dd7b-f797c905e3a0"
      },
      "cell_type": "code",
      "source": [
        "name = input(\"Please write down your name here!\")"
      ],
      "execution_count": 0,
      "outputs": [
        {
          "output_type": "stream",
          "text": [
            "Please write down your name here!김민선\n"
          ],
          "name": "stdout"
        }
      ]
    },
    {
      "metadata": {
        "id": "GBoK2DCH1oez",
        "colab_type": "code",
        "colab": {
          "base_uri": "https://localhost:8080/",
          "height": 35
        },
        "outputId": "9c7e69ad-692d-4422-c305-2349daa36db9"
      },
      "cell_type": "code",
      "source": [
        "name"
      ],
      "execution_count": 0,
      "outputs": [
        {
          "output_type": "execute_result",
          "data": {
            "text/plain": [
              "'김민선'"
            ]
          },
          "metadata": {
            "tags": []
          },
          "execution_count": 44
        }
      ]
    },
    {
      "metadata": {
        "id": "AuAECOIJ1y6s",
        "colab_type": "text"
      },
      "cell_type": "markdown",
      "source": [
        "## Code block(:) & Indentation(TAB : 들여쓰기)"
      ]
    },
    {
      "metadata": {
        "id": "ykS6lK4k1s4W",
        "colab_type": "code",
        "colab": {
          "base_uri": "https://localhost:8080/",
          "height": 35
        },
        "outputId": "8d1caf25-67b2-4e5f-8ef2-c472a69a32bc"
      },
      "cell_type": "code",
      "source": [
        "if(10<3): #콜론 #if문은 들여쓰기에 걸려!\n",
        "  print('inside if block')\n",
        "  print('still inside if block')\n",
        "print('outside if block!') #지금 얘 if문에 안걸림.\n",
        "\n",
        "#조건문을 들여쓰기에 걸린다. 파이썬은 들여쓰기에 민감!"
      ],
      "execution_count": 0,
      "outputs": [
        {
          "output_type": "stream",
          "text": [
            "outside if block!\n"
          ],
          "name": "stdout"
        }
      ]
    },
    {
      "metadata": {
        "id": "yvSu3Cmby4Kd",
        "colab_type": "text"
      },
      "cell_type": "markdown",
      "source": [
        "### Indentation error"
      ]
    },
    {
      "metadata": {
        "id": "k1U6mdaqzETt",
        "colab_type": "code",
        "colab": {
          "base_uri": "https://localhost:8080/",
          "height": 138
        },
        "outputId": "c70a1c3c-3939-4b7e-af81-f2e4943c246c"
      },
      "cell_type": "code",
      "source": [
        "#ERROR CODE\n",
        "if(10>3):\n",
        "  print('inside if block')\n",
        "    print('still inside if block')\n",
        "  \n",
        "print('outside if block!')"
      ],
      "execution_count": 0,
      "outputs": [
        {
          "output_type": "error",
          "ename": "IndentationError",
          "evalue": "ignored",
          "traceback": [
            "\u001b[0;36m  File \u001b[0;32m\"<ipython-input-5-baf35b2ebbb9>\"\u001b[0;36m, line \u001b[0;32m3\u001b[0m\n\u001b[0;31m    print('still inside if block')\u001b[0m\n\u001b[0m    ^\u001b[0m\n\u001b[0;31mIndentationError\u001b[0m\u001b[0;31m:\u001b[0m unexpected indent\n"
          ]
        }
      ]
    },
    {
      "metadata": {
        "id": "5q9mYG9k3XWw",
        "colab_type": "text"
      },
      "cell_type": "markdown",
      "source": [
        "### 도전 코딩1. BMI = M/H**2(),M(kg),H(m))"
      ]
    },
    {
      "metadata": {
        "id": "vo3O4NAs2W6x",
        "colab_type": "code",
        "colab": {
          "base_uri": "https://localhost:8080/",
          "height": 71
        },
        "outputId": "500cd804-3860-42c4-f0ec-d48d71b25ce3"
      },
      "cell_type": "code",
      "source": [
        "height = float(input(\"Your height in meters:\"))\n",
        "weight = int(input(\"Your weight in kilograss:\"))\n",
        "bmi = round(weight/ (height * height),1)\n",
        "bmi"
      ],
      "execution_count": 0,
      "outputs": [
        {
          "output_type": "stream",
          "text": [
            "Your height in meters:1.74\n",
            "Your weight in kilograss:73\n"
          ],
          "name": "stdout"
        },
        {
          "output_type": "execute_result",
          "data": {
            "text/plain": [
              "24.1"
            ]
          },
          "metadata": {
            "tags": []
          },
          "execution_count": 56
        }
      ]
    },
    {
      "metadata": {
        "id": "MMjY73c-40-q",
        "colab_type": "text"
      },
      "cell_type": "markdown",
      "source": [
        "### 도전 코딩2. Fat burning"
      ]
    },
    {
      "metadata": {
        "id": "w_RzR-w65dgq",
        "colab_type": "code",
        "colab": {}
      },
      "cell_type": "code",
      "source": [
        "# 조깅에서 1kg 지방을 태우는 데 몇 시간 걸리는지를 계산\n",
        "cal_per_1kg_fat = 7200       # 지방 1kg 연소에 필요한 열량\n",
        "cal_per_1min_jog = 7.76      # 조깅 1 분에 의한 소비 칼로리"
      ],
      "execution_count": 0,
      "outputs": []
    },
    {
      "metadata": {
        "id": "DWyxNRwC4F7T",
        "colab_type": "code",
        "colab": {
          "base_uri": "https://localhost:8080/",
          "height": 53
        },
        "outputId": "88e81e9d-8085-44ed-e61b-72cbb297eefa"
      },
      "cell_type": "code",
      "source": [
        "#조깅에서 1kg 체중 감소하는데 몇 분이 필요할까?\n",
        "min_to_lose1kg = cal_per_1kg_fat/cal_per_1min_jog\n",
        "hours_to_lose1kg = min_to_lose1kg/60  # 분을 시간으로 환산\n",
        "print(round(hours_to_lose1kg,1))\n",
        "print(str(round(hours_to_lose1kg,1)) + \" 시간\")"
      ],
      "execution_count": 0,
      "outputs": [
        {
          "output_type": "stream",
          "text": [
            "15.5\n",
            "15.5 시간\n"
          ],
          "name": "stdout"
        }
      ]
    },
    {
      "metadata": {
        "id": "vFryerqs6zON",
        "colab_type": "code",
        "colab": {
          "base_uri": "https://localhost:8080/",
          "height": 35
        },
        "outputId": "0074cbe4-43a6-4eea-fa6d-6bb6d5d2da6f"
      },
      "cell_type": "code",
      "source": [
        "print(\"{} 시간\".format(round(hours_to_lose1kg,1)))"
      ],
      "execution_count": 0,
      "outputs": [
        {
          "output_type": "stream",
          "text": [
            "15.5 시간\n"
          ],
          "name": "stdout"
        }
      ]
    }
  ]
}